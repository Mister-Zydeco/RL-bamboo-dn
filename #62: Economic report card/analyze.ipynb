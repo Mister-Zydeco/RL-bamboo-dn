{
 "cells": [
  {
   "cell_type": "code",
   "outputs": [
    {
     "name": "stdout",
     "output_type": "stream",
     "text": [
      "Key: @xmlns:ss\n",
      "Key: @xmlns:footer\n",
      "Key: @xmlns:ns1\n",
      "Key: @xmlns:message\n",
      "Key: @xmlns:common\n",
      "Key: @xmlns:xsi\n",
      "Key: @xmlns:xml\n",
      "Key: message:Header\n",
      "Key: message:DataSet\n",
      "{'@CONCEPT', 'Obs', '@REF_AREA', '@SCALE', '@LASTACTUALDATE', '@FREQ', '@UNIT', '@NOTES'}\n",
      "       @CONCEPT @REF_AREA @SCALE @LASTACTUALDATE @FREQ @UNIT  \\\n",
      "0        NGDP_D       111      1            2023     A     B   \n",
      "1        NGDP_D       111      1            2023     A     B   \n",
      "2        NGDP_D       111      1            2023     A     B   \n",
      "3        NGDP_D       111      1            2023     A     B   \n",
      "4        NGDP_D       111      1            2023     A     B   \n",
      "...         ...       ...    ...             ...   ...   ...   \n",
      "520795   PWOOLW       998      1             NaN     A     U   \n",
      "520796   PWOOLW       998      1             NaN     A     U   \n",
      "520797   PWOOLW       998      1             NaN     A     U   \n",
      "520798   PWOOLW       998      1             NaN     A     U   \n",
      "520799   PWOOLW       998      1             NaN     A     U   \n",
      "\n",
      "                                                   @NOTES @TIME_PERIOD  \\\n",
      "0       See notes for:  Gross domestic product, consta...         1980   \n",
      "1       See notes for:  Gross domestic product, consta...         1981   \n",
      "2       See notes for:  Gross domestic product, consta...         1982   \n",
      "3       See notes for:  Gross domestic product, consta...         1983   \n",
      "4       See notes for:  Gross domestic product, consta...         1984   \n",
      "...                                                   ...          ...   \n",
      "520795                                                NaN         2025   \n",
      "520796                                                NaN         2026   \n",
      "520797                                                NaN         2027   \n",
      "520798                                                NaN         2028   \n",
      "520799                                                NaN         2029   \n",
      "\n",
      "       @OBS_VALUE  \n",
      "0          39.372  \n",
      "1          43.097  \n",
      "2           45.76  \n",
      "3          47.552  \n",
      "4          49.268  \n",
      "...           ...  \n",
      "520795        n/a  \n",
      "520796        n/a  \n",
      "520797        n/a  \n",
      "520798        n/a  \n",
      "520799        n/a  \n",
      "\n",
      "[520800 rows x 9 columns]\n",
      "NGDP_D\n",
      "111\n",
      "1\n",
      "2023\n",
      "A\n",
      "B\n",
      "See notes for:  Gross domestic product, constant prices (National currency) Gross domestic product, current prices (National currency).\n",
      "1980\n",
      "39.372\n"
     ]
    }
   ],
   "source": [
    "import pandas as pd\n",
    "import xml.etree.ElementTree as ET\n",
    "import xmltodict\n",
    "\n",
    "with open('./data/WEO_PUB_APR2024.xml', 'r') as fh:\n",
    "    data = xmltodict.parse(fh.read())\n",
    "\n",
    "\n",
    "for v in data.values():\n",
    "    for k, v1 in v.items():\n",
    "        print(f'Key: {k}')\n",
    "        if k == 'message:DataSet':\n",
    "            all_keys = set()\n",
    "            for mem in v1['Series']:\n",
    "                all_keys = all_keys.union(mem.keys())\n",
    "            df_map = {\n",
    "                k1: [x.get(k1, pd.NA) for x in v1['Series']]\n",
    "                for k1 in all_keys\n",
    "            }\n",
    "\n",
    "\n",
    "\n",
    "print(all_keys)\n",
    "df = pd.DataFrame.from_dict(df_map)\n",
    "df = (\n",
    "    df.set_index([k for k in all_keys if k != 'Obs'])\n",
    "      .explode('Obs').reset_index()\n",
    ")\n",
    "for x in ['@TIME_PERIOD', '@OBS_VALUE']:\n",
    "    df[x] = df['Obs'].apply(lambda obs: obs[x])\n",
    "df = df.drop('Obs', axis=1)\n",
    "print(df)\n",
    "for col in df.columns:\n",
    "    print(df.loc[0, col])\n",
    "\n"
   ],
   "metadata": {
    "collapsed": false,
    "ExecuteTime": {
     "end_time": "2024-05-02T16:34:04.524063Z",
     "start_time": "2024-05-02T16:33:42.305236Z"
    }
   },
   "id": "a0b8fb19f898af7",
   "execution_count": 1
  },
  {
   "cell_type": "code",
   "outputs": [
    {
     "data": {
      "text/plain": "       @CONCEPT @REF_AREA @SCALE @LASTACTUALDATE @FREQ @UNIT  \\\n0        NGDP_D       111      1            2023     A     B   \n1        NGDP_D       111      1            2023     A     B   \n2        NGDP_D       111      1            2023     A     B   \n3        NGDP_D       111      1            2023     A     B   \n4        NGDP_D       111      1            2023     A     B   \n...         ...       ...    ...             ...   ...   ...   \n520795   PWOOLW       998      1             NaN     A     U   \n520796   PWOOLW       998      1             NaN     A     U   \n520797   PWOOLW       998      1             NaN     A     U   \n520798   PWOOLW       998      1             NaN     A     U   \n520799   PWOOLW       998      1             NaN     A     U   \n\n                                                   @NOTES @TIME_PERIOD  \\\n0       See notes for:  Gross domestic product, consta...         1980   \n1       See notes for:  Gross domestic product, consta...         1981   \n2       See notes for:  Gross domestic product, consta...         1982   \n3       See notes for:  Gross domestic product, consta...         1983   \n4       See notes for:  Gross domestic product, consta...         1984   \n...                                                   ...          ...   \n520795                                                NaN         2025   \n520796                                                NaN         2026   \n520797                                                NaN         2027   \n520798                                                NaN         2028   \n520799                                                NaN         2029   \n\n       @OBS_VALUE  \n0          39.372  \n1          43.097  \n2           45.76  \n3          47.552  \n4          49.268  \n...           ...  \n520795        n/a  \n520796        n/a  \n520797        n/a  \n520798        n/a  \n520799        n/a  \n\n[520800 rows x 9 columns]",
      "text/html": "<div>\n<style scoped>\n    .dataframe tbody tr th:only-of-type {\n        vertical-align: middle;\n    }\n\n    .dataframe tbody tr th {\n        vertical-align: top;\n    }\n\n    .dataframe thead th {\n        text-align: right;\n    }\n</style>\n<table border=\"1\" class=\"dataframe\">\n  <thead>\n    <tr style=\"text-align: right;\">\n      <th></th>\n      <th>@CONCEPT</th>\n      <th>@REF_AREA</th>\n      <th>@SCALE</th>\n      <th>@LASTACTUALDATE</th>\n      <th>@FREQ</th>\n      <th>@UNIT</th>\n      <th>@NOTES</th>\n      <th>@TIME_PERIOD</th>\n      <th>@OBS_VALUE</th>\n    </tr>\n  </thead>\n  <tbody>\n    <tr>\n      <th>0</th>\n      <td>NGDP_D</td>\n      <td>111</td>\n      <td>1</td>\n      <td>2023</td>\n      <td>A</td>\n      <td>B</td>\n      <td>See notes for:  Gross domestic product, consta...</td>\n      <td>1980</td>\n      <td>39.372</td>\n    </tr>\n    <tr>\n      <th>1</th>\n      <td>NGDP_D</td>\n      <td>111</td>\n      <td>1</td>\n      <td>2023</td>\n      <td>A</td>\n      <td>B</td>\n      <td>See notes for:  Gross domestic product, consta...</td>\n      <td>1981</td>\n      <td>43.097</td>\n    </tr>\n    <tr>\n      <th>2</th>\n      <td>NGDP_D</td>\n      <td>111</td>\n      <td>1</td>\n      <td>2023</td>\n      <td>A</td>\n      <td>B</td>\n      <td>See notes for:  Gross domestic product, consta...</td>\n      <td>1982</td>\n      <td>45.76</td>\n    </tr>\n    <tr>\n      <th>3</th>\n      <td>NGDP_D</td>\n      <td>111</td>\n      <td>1</td>\n      <td>2023</td>\n      <td>A</td>\n      <td>B</td>\n      <td>See notes for:  Gross domestic product, consta...</td>\n      <td>1983</td>\n      <td>47.552</td>\n    </tr>\n    <tr>\n      <th>4</th>\n      <td>NGDP_D</td>\n      <td>111</td>\n      <td>1</td>\n      <td>2023</td>\n      <td>A</td>\n      <td>B</td>\n      <td>See notes for:  Gross domestic product, consta...</td>\n      <td>1984</td>\n      <td>49.268</td>\n    </tr>\n    <tr>\n      <th>...</th>\n      <td>...</td>\n      <td>...</td>\n      <td>...</td>\n      <td>...</td>\n      <td>...</td>\n      <td>...</td>\n      <td>...</td>\n      <td>...</td>\n      <td>...</td>\n    </tr>\n    <tr>\n      <th>520795</th>\n      <td>PWOOLW</td>\n      <td>998</td>\n      <td>1</td>\n      <td>NaN</td>\n      <td>A</td>\n      <td>U</td>\n      <td>NaN</td>\n      <td>2025</td>\n      <td>n/a</td>\n    </tr>\n    <tr>\n      <th>520796</th>\n      <td>PWOOLW</td>\n      <td>998</td>\n      <td>1</td>\n      <td>NaN</td>\n      <td>A</td>\n      <td>U</td>\n      <td>NaN</td>\n      <td>2026</td>\n      <td>n/a</td>\n    </tr>\n    <tr>\n      <th>520797</th>\n      <td>PWOOLW</td>\n      <td>998</td>\n      <td>1</td>\n      <td>NaN</td>\n      <td>A</td>\n      <td>U</td>\n      <td>NaN</td>\n      <td>2027</td>\n      <td>n/a</td>\n    </tr>\n    <tr>\n      <th>520798</th>\n      <td>PWOOLW</td>\n      <td>998</td>\n      <td>1</td>\n      <td>NaN</td>\n      <td>A</td>\n      <td>U</td>\n      <td>NaN</td>\n      <td>2028</td>\n      <td>n/a</td>\n    </tr>\n    <tr>\n      <th>520799</th>\n      <td>PWOOLW</td>\n      <td>998</td>\n      <td>1</td>\n      <td>NaN</td>\n      <td>A</td>\n      <td>U</td>\n      <td>NaN</td>\n      <td>2029</td>\n      <td>n/a</td>\n    </tr>\n  </tbody>\n</table>\n<p>520800 rows × 9 columns</p>\n</div>"
     },
     "execution_count": 2,
     "metadata": {},
     "output_type": "execute_result"
    }
   ],
   "source": [
    "df"
   ],
   "metadata": {
    "collapsed": false,
    "ExecuteTime": {
     "end_time": "2024-05-02T16:34:24.181801Z",
     "start_time": "2024-05-02T16:34:24.122369Z"
    }
   },
   "id": "c89c7a71efd84a9d",
   "execution_count": 2
  },
  {
   "cell_type": "code",
   "outputs": [
    {
     "data": {
      "text/plain": "@CONCEPT\nNGDP_D         10500\nGGXWDN_NGDP    10500\nTX_RPCH        10500\nTXG_RPCH       10500\nBCA_NGDPD      10500\n               ...  \nBFP              700\nBFO              700\nBFF              700\nBFD              700\nPWOOLW           700\nName: count, Length: 145, dtype: int64"
     },
     "execution_count": 4,
     "metadata": {},
     "output_type": "execute_result"
    }
   ],
   "source": [
    "df['@CONCEPT'].value_counts()"
   ],
   "metadata": {
    "collapsed": false,
    "ExecuteTime": {
     "end_time": "2024-05-02T16:35:28.970146Z",
     "start_time": "2024-05-02T16:35:28.927815Z"
    }
   },
   "id": "52f67168af4dfa66",
   "execution_count": 4
  },
  {
   "cell_type": "code",
   "outputs": [
    {
     "data": {
      "text/plain": "@REF_AREA\n998    6400\n205    6400\n001    6400\n110    6400\n123    6400\n       ... \n463    2200\n466    2200\n469    2200\n474    2200\n616    2200\nName: count, Length: 210, dtype: int64"
     },
     "execution_count": 5,
     "metadata": {},
     "output_type": "execute_result"
    }
   ],
   "source": [
    "df['@REF_AREA'].value_counts()"
   ],
   "metadata": {
    "collapsed": false,
    "ExecuteTime": {
     "end_time": "2024-05-02T16:36:09.729121Z",
     "start_time": "2024-05-02T16:36:09.677635Z"
    }
   },
   "id": "ffe1e5c92cc54895",
   "execution_count": 5
  },
  {
   "cell_type": "code",
   "outputs": [
    {
     "data": {
      "text/plain": "@SCALE\n1             363300\n1000000000    137900\n1000000        19600\nName: count, dtype: int64"
     },
     "execution_count": 6,
     "metadata": {},
     "output_type": "execute_result"
    }
   ],
   "source": [
    "df['@SCALE'].value_counts()"
   ],
   "metadata": {
    "collapsed": false,
    "ExecuteTime": {
     "end_time": "2024-05-02T16:37:15.283714Z",
     "start_time": "2024-05-02T16:37:15.243674Z"
    }
   },
   "id": "9bb9b21622c6e611",
   "execution_count": 6
  },
  {
   "cell_type": "code",
   "outputs": [
    {
     "data": {
      "text/plain": "@UNIT\nE    117600\nK     97300\nH     75600\nP     66500\nB     29400\nT     21000\nL     21000\nN     19600\nU     15400\nM     10500\nG     10500\nS     10500\nO      9800\nF      9800\nJ      2800\nC      1400\nI       700\nQ       700\nR       700\nName: count, dtype: int64"
     },
     "execution_count": 7,
     "metadata": {},
     "output_type": "execute_result"
    }
   ],
   "source": [
    "df['@UNIT'].value_counts()"
   ],
   "metadata": {
    "collapsed": false,
    "ExecuteTime": {
     "end_time": "2024-05-02T16:41:52.294945Z",
     "start_time": "2024-05-02T16:41:52.251598Z"
    }
   },
   "id": "4410961aac7d490",
   "execution_count": 7
  },
  {
   "cell_type": "code",
   "outputs": [
    {
     "data": {
      "text/plain": "@NOTES\nSee notes for:  Gross domestic product, current prices (National currency).                                                                                                                                                                                          39200\nSee notes for:  Gross domestic product, current prices (National currency) Population (Persons).                                                                                                                                                                     29400\nSee notes for:  Gross domestic product, constant prices (National currency) Population (Persons).                                                                                                                                                                    19550\nSee notes for:  Gross domestic product, constant prices (National currency).                                                                                                                                                                                         11150\nSee notes for:  Gross domestic product, constant prices (National currency) Gross domestic product, current prices (National currency).                                                                                                                               9800\n                                                                                                                                                                                                                                                                     ...  \nSource: Ministry of Finance or Treasury. Department of Economic Planning and Statistics Latest actual data: 2022 Primary domestic currency: Brunei dollar Data last updated: 03/2024                                                                                    50\nSource: International Financial Institution. World Development Indicators Latest actual data: FY2020/21 Primary domestic currency: Bhutanese ngultrum Data last updated: 03/2024                                                                                        50\nSource: International Financial Institution Latest actual data: FY2019/20 Primary domestic currency: Bangladesh taka Data last updated: 03/2024                                                                                                                         50\nSource: National Statistics Office Latest actual data: FY2022/23 Primary domestic currency: Afghan afghani Data last updated: 03/2024                                                                                                                                   50\nSource: Central Bank. Formally, the National Bank of Romania. Latest actual data: 2023 BOP Manual used: Balance of Payments and International Investment Position Manual, sixth edition (BPM6) Primary domestic currency: Romanian leu Data last updated: 03/2024       50\nName: count, Length: 1258, dtype: int64"
     },
     "execution_count": 8,
     "metadata": {},
     "output_type": "execute_result"
    }
   ],
   "source": [
    "df['@NOTES'].value_counts()"
   ],
   "metadata": {
    "collapsed": false,
    "ExecuteTime": {
     "end_time": "2024-05-02T16:42:29.472254Z",
     "start_time": "2024-05-02T16:42:29.435078Z"
    }
   },
   "id": "ee994eed629fa740",
   "execution_count": 8
  },
  {
   "cell_type": "code",
   "outputs": [
    {
     "data": {
      "text/plain": "@TIME_PERIOD\n1980    10416\n2017    10416\n2007    10416\n2008    10416\n2009    10416\n2010    10416\n2011    10416\n2012    10416\n2013    10416\n2014    10416\n2015    10416\n2016    10416\n2018    10416\n1981    10416\n2019    10416\n2020    10416\n2021    10416\n2022    10416\n2023    10416\n2024    10416\n2025    10416\n2026    10416\n2027    10416\n2028    10416\n2006    10416\n2005    10416\n2004    10416\n2003    10416\n1982    10416\n1983    10416\n1984    10416\n1985    10416\n1986    10416\n1987    10416\n1988    10416\n1989    10416\n1990    10416\n1991    10416\n1992    10416\n1993    10416\n1994    10416\n1995    10416\n1996    10416\n1997    10416\n1998    10416\n1999    10416\n2000    10416\n2001    10416\n2002    10416\n2029    10416\nName: count, dtype: int64"
     },
     "execution_count": 9,
     "metadata": {},
     "output_type": "execute_result"
    }
   ],
   "source": [
    "df['@TIME_PERIOD'].value_counts()"
   ],
   "metadata": {
    "collapsed": false,
    "ExecuteTime": {
     "end_time": "2024-05-02T16:44:40.428622Z",
     "start_time": "2024-05-02T16:44:40.372627Z"
    }
   },
   "id": "ff17a7ee1f50eef0",
   "execution_count": 9
  },
  {
   "cell_type": "code",
   "outputs": [],
   "source": [],
   "metadata": {
    "collapsed": false
   },
   "id": "1dc640a939c28d8"
  }
 ],
 "metadata": {
  "kernelspec": {
   "display_name": "Python 3",
   "language": "python",
   "name": "python3"
  },
  "language_info": {
   "codemirror_mode": {
    "name": "ipython",
    "version": 2
   },
   "file_extension": ".py",
   "mimetype": "text/x-python",
   "name": "python",
   "nbconvert_exporter": "python",
   "pygments_lexer": "ipython2",
   "version": "2.7.6"
  }
 },
 "nbformat": 4,
 "nbformat_minor": 5
}
