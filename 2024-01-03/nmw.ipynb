{
 "cells": [
  {
   "cell_type": "code",
   "execution_count": null,
   "id": "6bf5650a",
   "metadata": {},
   "outputs": [],
   "source": [
    "import pandas as pd\n",
    "import matplotlib.pyplot as plt\n",
    "import pickle\n",
    "\n",
    "with open('data/states.pickle', 'rb') as fh:\n",
    "    states_df = pickle.load(fh)\n",
    "states_series = states_df['Abbreviation']\n",
    "print(states_series.to_string())"
   ]
  },
  {
   "cell_type": "code",
   "execution_count": null,
   "id": "196b970a",
   "metadata": {},
   "outputs": [],
   "source": [
    "with open('data/nmw.pickle', 'rb') as fh:\n",
    "    nmw_df = pickle.load(fh)\n",
    "nmw_df = nmw_df.set_index(['STATE', 'DATE'])\n",
    "present_states = nmw_df.index.unique('STATE').values\n",
    "absent_states = states_df[~states_df['Abbreviation'].isin(present_states)]\n",
    "absent_states"
   ]
  },
  {
   "cell_type": "code",
   "execution_count": null,
   "id": "0254e746",
   "metadata": {},
   "outputs": [],
   "source": [
    "nmw_by_year = nmw_df.unstack(level=0)\n",
    "nmw_by_year"
   ]
  },
  {
   "cell_type": "code",
   "execution_count": null,
   "id": "b025cfdf",
   "metadata": {},
   "outputs": [],
   "source": [
    "nmw_gb = nmw_df.groupby(level=0, as_index=False)\n",
    "earliest_reports = nmw_gb.nth(0).sort_index(level='DATE', ascending=False)\n",
    "earliest_reports"
   ]
  },
  {
   "cell_type": "code",
   "execution_count": null,
   "id": "aa14ba84",
   "metadata": {
    "scrolled": false
   },
   "outputs": [],
   "source": [
    "nmw2324_df = nmw_gb.nth[-2:].unstack().iloc[:, 0:2].T.reset_index(\n",
    "    drop=True).T.sort_values('STATE').dropna(how='any')\n",
    "nmw2324_df.columns = ['2023', '2024']\n",
    "nmw2324_df['DIFF'] = nmw2324_df['2024'] - nmw2324_df['2023']\n",
    "nmw2324_df = nmw2324_df[nmw2324_df['DIFF'] > 0]\n",
    "nmw2324_df.sort_values(by='DIFF', ascending=False).head()"
   ]
  },
  {
   "cell_type": "code",
   "execution_count": null,
   "id": "76ae0d89",
   "metadata": {},
   "outputs": [],
   "source": [
    "nmw2324_df['% DIFF'] = 100 * nmw2324_df['DIFF'] / nmw2324_df['2023']\n",
    "nmw2324_df.sort_values(by='% DIFF', ascending=False).head()"
   ]
  },
  {
   "cell_type": "code",
   "execution_count": null,
   "id": "6f246c10",
   "metadata": {},
   "outputs": [],
   "source": [
    "nmw_dfr = nmw_df.reset_index()\n",
    "nmw_dfr['YEAR'] = nmw_dfr['DATE'].dt.year\n",
    "nmw_dfr['DECADE'] = (nmw_dfr['YEAR'] - nmw_dfr['YEAR'].mod(10)).mod(100)\n",
    "decade_av = nmw_dfr.groupby(by='DECADE')['MIN_WAGE'].mean()\n",
    "xs = [60, 70, 80, 90, 0, 10, 20]\n",
    "decade_av = decade_av.reindex(xs)\n",
    "print(decade_av.to_string())"
   ]
  },
  {
   "cell_type": "code",
   "execution_count": null,
   "id": "d8de1815",
   "metadata": {},
   "outputs": [],
   "source": [
    "\n",
    "xlabels = [f'{x:02d}s' for x in xs]\n",
    "ys = decade_av.values\n",
    "plt.plot(xlabels, ys)\n",
    "plt.xlabel('Decade')\n",
    "plt.ylabel('Avg. min. wage')\n",
    "plt.show()"
   ]
  },
  {
   "cell_type": "code",
   "execution_count": null,
   "id": "db761041",
   "metadata": {},
   "outputs": [],
   "source": []
  }
 ],
 "metadata": {
  "kernelspec": {
   "display_name": "Python 3 (ipykernel)",
   "language": "python",
   "name": "python3"
  },
  "language_info": {
   "codemirror_mode": {
    "name": "ipython",
    "version": 3
   },
   "file_extension": ".py",
   "mimetype": "text/x-python",
   "name": "python",
   "nbconvert_exporter": "python",
   "pygments_lexer": "ipython3",
   "version": "3.11.4"
  }
 },
 "nbformat": 4,
 "nbformat_minor": 5
}
