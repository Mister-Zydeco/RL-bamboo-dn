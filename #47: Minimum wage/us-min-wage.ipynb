{
 "cells": [
  {
   "cell_type": "code",
   "execution_count": 4,
   "id": "c1de5309",
   "metadata": {},
   "outputs": [
    {
     "data": {
      "text/html": [
       "<div>\n",
       "<style scoped>\n",
       "    .dataframe tbody tr th:only-of-type {\n",
       "        vertical-align: middle;\n",
       "    }\n",
       "\n",
       "    .dataframe tbody tr th {\n",
       "        vertical-align: top;\n",
       "    }\n",
       "\n",
       "    .dataframe thead th {\n",
       "        text-align: right;\n",
       "    }\n",
       "</style>\n",
       "<table border=\"1\" class=\"dataframe\">\n",
       "  <thead>\n",
       "    <tr style=\"text-align: right;\">\n",
       "      <th></th>\n",
       "      <th></th>\n",
       "      <th>MIN_WAGE</th>\n",
       "    </tr>\n",
       "    <tr>\n",
       "      <th>STATE</th>\n",
       "      <th>DATE</th>\n",
       "      <th></th>\n",
       "    </tr>\n",
       "  </thead>\n",
       "  <tbody>\n",
       "    <tr>\n",
       "      <th rowspan=\"5\" valign=\"top\">SD</th>\n",
       "      <th>1970-01-01</th>\n",
       "      <td>1.00</td>\n",
       "    </tr>\n",
       "    <tr>\n",
       "      <th>1971-01-01</th>\n",
       "      <td>1.00</td>\n",
       "    </tr>\n",
       "    <tr>\n",
       "      <th>1972-01-01</th>\n",
       "      <td>1.00</td>\n",
       "    </tr>\n",
       "    <tr>\n",
       "      <th>1973-01-01</th>\n",
       "      <td>1.00</td>\n",
       "    </tr>\n",
       "    <tr>\n",
       "      <th>1974-01-01</th>\n",
       "      <td>1.00</td>\n",
       "    </tr>\n",
       "    <tr>\n",
       "      <th>...</th>\n",
       "      <th>...</th>\n",
       "      <td>...</td>\n",
       "    </tr>\n",
       "    <tr>\n",
       "      <th rowspan=\"5\" valign=\"top\">ID</th>\n",
       "      <th>2020-01-01</th>\n",
       "      <td>7.25</td>\n",
       "    </tr>\n",
       "    <tr>\n",
       "      <th>2021-01-01</th>\n",
       "      <td>7.25</td>\n",
       "    </tr>\n",
       "    <tr>\n",
       "      <th>2022-01-01</th>\n",
       "      <td>7.25</td>\n",
       "    </tr>\n",
       "    <tr>\n",
       "      <th>2023-01-01</th>\n",
       "      <td>7.25</td>\n",
       "    </tr>\n",
       "    <tr>\n",
       "      <th>2024-01-01</th>\n",
       "      <td>7.25</td>\n",
       "    </tr>\n",
       "  </tbody>\n",
       "</table>\n",
       "<p>2458 rows × 1 columns</p>\n",
       "</div>"
      ],
      "text/plain": [
       "                  MIN_WAGE\n",
       "STATE DATE                \n",
       "SD    1970-01-01      1.00\n",
       "      1971-01-01      1.00\n",
       "      1972-01-01      1.00\n",
       "      1973-01-01      1.00\n",
       "      1974-01-01      1.00\n",
       "...                    ...\n",
       "ID    2020-01-01      7.25\n",
       "      2021-01-01      7.25\n",
       "      2022-01-01      7.25\n",
       "      2023-01-01      7.25\n",
       "      2024-01-01      7.25\n",
       "\n",
       "[2458 rows x 1 columns]"
      ]
     },
     "execution_count": 4,
     "metadata": {},
     "output_type": "execute_result"
    }
   ],
   "source": [
    "\n",
    "import numpy as np\n",
    "import pandas as pd\n",
    "import matplotlib.pyplot as plt\n",
    "import pickle\n",
    "\n",
    "with open('data/nmw.pickle', 'rb') as fh:\n",
    "    nmw_df = pickle.load(fh)\n",
    "\n",
    "nmw_df"
   ]
  },
  {
   "cell_type": "code",
   "execution_count": 5,
   "id": "f0c4b187",
   "metadata": {},
   "outputs": [
    {
     "name": "stdout",
     "output_type": "stream",
     "text": [
      "<class 'pandas.core.frame.DataFrame'>\n",
      "MultiIndex: 2458 entries, ('SD', Timestamp('1970-01-01 00:00:00')) to ('ID', Timestamp('2024-01-01 00:00:00'))\n",
      "Data columns (total 1 columns):\n",
      " #   Column    Non-Null Count  Dtype  \n",
      "---  ------    --------------  -----  \n",
      " 0   MIN_WAGE  2458 non-null   float64\n",
      "dtypes: float64(1)\n",
      "memory usage: 24.9+ KB\n"
     ]
    }
   ],
   "source": [
    "nmw_df.info()"
   ]
  },
  {
   "cell_type": "code",
   "execution_count": 6,
   "id": "0738820b",
   "metadata": {},
   "outputs": [
    {
     "data": {
      "text/plain": [
       "MultiIndex([('SD', '1970-01-01'),\n",
       "            ('SD', '1971-01-01'),\n",
       "            ('SD', '1972-01-01'),\n",
       "            ('SD', '1973-01-01'),\n",
       "            ('SD', '1974-01-01'),\n",
       "            ('SD', '1975-01-01'),\n",
       "            ('SD', '1976-01-01'),\n",
       "            ('SD', '1977-01-01'),\n",
       "            ('SD', '1978-01-01'),\n",
       "            ('SD', '1979-01-01'),\n",
       "            ...\n",
       "            ('ID', '2015-01-01'),\n",
       "            ('ID', '2016-01-01'),\n",
       "            ('ID', '2017-01-01'),\n",
       "            ('ID', '2018-01-01'),\n",
       "            ('ID', '2019-01-01'),\n",
       "            ('ID', '2020-01-01'),\n",
       "            ('ID', '2021-01-01'),\n",
       "            ('ID', '2022-01-01'),\n",
       "            ('ID', '2023-01-01'),\n",
       "            ('ID', '2024-01-01')],\n",
       "           names=['STATE', 'DATE'], length=2458)"
      ]
     },
     "execution_count": 6,
     "metadata": {},
     "output_type": "execute_result"
    }
   ],
   "source": [
    "nmw_df.index"
   ]
  },
  {
   "cell_type": "code",
   "execution_count": 9,
   "id": "fb0ba4fa",
   "metadata": {},
   "outputs": [
    {
     "data": {
      "text/html": [
       "<div>\n",
       "<style scoped>\n",
       "    .dataframe tbody tr th:only-of-type {\n",
       "        vertical-align: middle;\n",
       "    }\n",
       "\n",
       "    .dataframe tbody tr th {\n",
       "        vertical-align: top;\n",
       "    }\n",
       "\n",
       "    .dataframe thead th {\n",
       "        text-align: right;\n",
       "    }\n",
       "</style>\n",
       "<table border=\"1\" class=\"dataframe\">\n",
       "  <thead>\n",
       "    <tr style=\"text-align: right;\">\n",
       "      <th></th>\n",
       "      <th>MIN_WAGE</th>\n",
       "    </tr>\n",
       "    <tr>\n",
       "      <th>DATE</th>\n",
       "      <th></th>\n",
       "    </tr>\n",
       "  </thead>\n",
       "  <tbody>\n",
       "    <tr>\n",
       "      <th>1968-12-31</th>\n",
       "      <td>1.289706</td>\n",
       "    </tr>\n",
       "    <tr>\n",
       "      <th>1978-12-31</th>\n",
       "      <td>1.615630</td>\n",
       "    </tr>\n",
       "    <tr>\n",
       "      <th>1988-12-31</th>\n",
       "      <td>2.720476</td>\n",
       "    </tr>\n",
       "    <tr>\n",
       "      <th>1998-12-31</th>\n",
       "      <td>3.991514</td>\n",
       "    </tr>\n",
       "    <tr>\n",
       "      <th>2008-12-31</th>\n",
       "      <td>5.549079</td>\n",
       "    </tr>\n",
       "    <tr>\n",
       "      <th>2018-12-31</th>\n",
       "      <td>7.731283</td>\n",
       "    </tr>\n",
       "    <tr>\n",
       "      <th>2028-12-31</th>\n",
       "      <td>10.076734</td>\n",
       "    </tr>\n",
       "  </tbody>\n",
       "</table>\n",
       "</div>"
      ],
      "text/plain": [
       "             MIN_WAGE\n",
       "DATE                 \n",
       "1968-12-31   1.289706\n",
       "1978-12-31   1.615630\n",
       "1988-12-31   2.720476\n",
       "1998-12-31   3.991514\n",
       "2008-12-31   5.549079\n",
       "2018-12-31   7.731283\n",
       "2028-12-31  10.076734"
      ]
     },
     "execution_count": 9,
     "metadata": {},
     "output_type": "execute_result"
    }
   ],
   "source": [
    "nmw_df.resample('10Y', level='DATE').mean()"
   ]
  },
  {
   "cell_type": "code",
   "execution_count": null,
   "id": "7bf5fc8f",
   "metadata": {},
   "outputs": [],
   "source": []
  }
 ],
 "metadata": {
  "kernelspec": {
   "display_name": "Python 3 (ipykernel)",
   "language": "python",
   "name": "python3"
  },
  "language_info": {
   "codemirror_mode": {
    "name": "ipython",
    "version": 3
   },
   "file_extension": ".py",
   "mimetype": "text/x-python",
   "name": "python",
   "nbconvert_exporter": "python",
   "pygments_lexer": "ipython3",
   "version": "3.11.4"
  }
 },
 "nbformat": 4,
 "nbformat_minor": 5
}
