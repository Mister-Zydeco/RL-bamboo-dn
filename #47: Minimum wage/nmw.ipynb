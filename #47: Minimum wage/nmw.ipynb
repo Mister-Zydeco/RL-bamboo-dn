{
 "cells": [
  {
   "cell_type": "markdown",
   "id": "0",
   "metadata": {},
   "source": [
    "Run the scripts nmw_get_csvs.py and nmw_make_dfs.py before running this notebook."
   ]
  },
  {
   "cell_type": "code",
   "execution_count": null,
   "id": "1",
   "metadata": {},
   "outputs": [],
   "source": []
  },
  {
   "cell_type": "code",
   "execution_count": null,
   "id": "2",
   "metadata": {},
   "outputs": [],
   "source": [
    "import pandas as pd\n",
    "import matplotlib.pyplot as plt\n",
    "import pickle\n",
    "\n",
    "with open('data/states.pickle', 'rb') as fh:\n",
    "    states_df = pickle.load(fh)\n",
    "states_series = states_df['Abbreviation']\n",
    "print(states_series.to_string())"
   ]
  },
  {
   "cell_type": "code",
   "execution_count": null,
   "id": "3",
   "metadata": {},
   "outputs": [],
   "source": [
    "with open('data/nmw.pickle', 'rb') as fh:\n",
    "    nmw_df = pickle.load(fh)\n",
    "#nmw_df = nmw_df.set_index(['STATE', 'DATE'])\n",
    "present_states = nmw_df.index.unique('STATE').values\n",
    "absent_states = states_df[~states_df['Abbreviation'].isin(present_states)]\n",
    "absent_states"
   ]
  },
  {
   "cell_type": "code",
   "execution_count": null,
   "id": "4",
   "metadata": {},
   "outputs": [],
   "source": [
    "nmw_by_year = nmw_df.unstack(level='STATE')\n",
    "nmw_by_year.columns = nmw_by_year.columns.droplevel(0)\n",
    "nmw_by_year"
   ]
  },
  {
   "cell_type": "code",
   "execution_count": null,
   "id": "5",
   "metadata": {},
   "outputs": [],
   "source": [
    "print(nmw_by_year.columns)\n",
    "up_2024 = nmw_by_year.diff().loc['2024', :]\n",
    "print(up_2024.columns)"
   ]
  },
  {
   "cell_type": "code",
   "execution_count": null,
   "id": "6",
   "metadata": {},
   "outputs": [],
   "source": [
    "nmw_gb = nmw_df.groupby(level=0, as_index=False)\n",
    "earliest_reports = nmw_gb.nth(0).sort_index(level='DATE', ascending=False)\n",
    "earliest_reports"
   ]
  },
  {
   "cell_type": "code",
   "execution_count": null,
   "id": "7",
   "metadata": {},
   "outputs": [],
   "source": [
    "nmw2324_df = nmw_gb.nth[-2:].unstack()\n",
    "nmw2324_df.columns = [str(x[1].year) for x in nmw2324_df.columns]\n",
    "nmw2324_df = nmw2324_df.loc[:, ['2023','2024']].sort_values('STATE').dropna(how='any')\n",
    "nmw2324_df['DIFF'] = nmw2324_df['2024'] - nmw2324_df['2023']\n",
    "nmw2324_df = nmw2324_df[nmw2324_df['DIFF'] > 0]\n",
    "nmw2324_df.sort_values(by='DIFF', ascending=False).head()"
   ]
  },
  {
   "cell_type": "code",
   "execution_count": null,
   "id": "8",
   "metadata": {},
   "outputs": [],
   "source": [
    "nmw2324_df['% DIFF'] = 100 * nmw2324_df['DIFF'] / nmw2324_df['2023']\n",
    "nmw2324_df.sort_values(by='% DIFF', ascending=False).head()"
   ]
  },
  {
   "cell_type": "code",
   "execution_count": null,
   "id": "9",
   "metadata": {},
   "outputs": [],
   "source": [
    "nmw_dfr = nmw_df.reset_index()\n",
    "nmw_dfr['YEAR'] = nmw_dfr['DATE'].dt.year\n",
    "nmw_dfr['DECADE'] = (nmw_dfr['YEAR'] - nmw_dfr['YEAR'].mod(10)).mod(100)\n",
    "decade_av = nmw_dfr.groupby(by='DECADE')['MIN_WAGE'].mean()\n",
    "xs = [60, 70, 80, 90, 0, 10, 20]\n",
    "decade_av = decade_av.reindex(xs)\n",
    "print(decade_av.to_string())"
   ]
  },
  {
   "cell_type": "code",
   "execution_count": null,
   "id": "10",
   "metadata": {},
   "outputs": [],
   "source": [
    "\n",
    "xlabels = [f'{x:02d}s' for x in xs]\n",
    "ys = decade_av.values\n",
    "plt.plot(xlabels, ys)\n",
    "plt.xlabel('Decade')\n",
    "plt.ylabel('Avg. min. wage')\n",
    "plt.show()"
   ]
  },
  {
   "cell_type": "code",
   "execution_count": null,
   "id": "11",
   "metadata": {},
   "outputs": [],
   "source": []
  }
 ],
 "metadata": {
  "kernelspec": {
   "display_name": "Python 3 (ipykernel)",
   "language": "python",
   "name": "python3"
  },
  "language_info": {
   "codemirror_mode": {
    "name": "ipython",
    "version": 3
   },
   "file_extension": ".py",
   "mimetype": "text/x-python",
   "name": "python",
   "nbconvert_exporter": "python",
   "pygments_lexer": "ipython3",
   "version": "3.11.4"
  }
 },
 "nbformat": 4,
 "nbformat_minor": 5
}
