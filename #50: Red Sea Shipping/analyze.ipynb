{
 "cells": [
  {
   "cell_type": "code",
   "execution_count": null,
   "id": "0",
   "metadata": {
    "tags": []
   },
   "outputs": [],
   "source": [
    "import pandas as pd\n",
    "from collections import defaultdict\n",
    "from glob import glob\n",
    "import matplotlib.pyplot as plt\n",
    "\n",
    "dfs = {}\n",
    "for fname in glob('./data/*.csv'):\n",
    "    name = fname[7:10]\n",
    "    renamer = {\n",
    "        f'Number of {x} Ships': f'{name}-{x}'\n",
    "        for x in ['Cargo', 'Tanker']\n",
    "    }\n",
    "    df = pd.read_csv(fname, index_col='DateTime', parse_dates=True)\n",
    "    dfs[name] = df.loc[:, renamer.keys()].rename(columns=renamer)\n",
    "big_df = pd.concat(dfs.values(), axis=1)\n",
    "\n",
    "def col_renamer(st):\n",
    "    dic = {\n",
    "        'bab': 'Bab el Mandeb', 'cap': 'Cape of Good Hope',\n",
    "        'sue': 'Suez Canal'\n",
    "    }\n",
    "    return dic[st[:3]]\n"
   ]
  },
  {
   "cell_type": "code",
   "execution_count": null,
   "id": "1",
   "metadata": {
    "tags": []
   },
   "outputs": [],
   "source": [
    "cargo_cols = ['bab-Cargo', 'cap-Cargo', 'sue-Cargo']\n",
    "cargo_monthly_df = (\n",
    "    big_df.loc[:, cargo_cols].rename(columns=col_renamer)\n",
    "    .resample('M').mean()\n",
    ")\n",
    "ax1 = cargo_monthly_df.plot(\n",
    "    title='Mean daily cargo traffic by month'\n",
    ")\n",
    "#ax1.legend(loc='upper left', bbox_to_anchor=(1.05, -0.5))\n",
    "start, end = pd.to_datetime('2023-09-01'), pd.to_datetime('2024-01-21')"
   ]
  },
  {
   "cell_type": "code",
   "execution_count": null,
   "id": "2",
   "metadata": {
    "tags": []
   },
   "outputs": [],
   "source": [
    "tanker_cols = ['bab-Tanker', 'cap-Tanker', 'sue-Tanker']\n",
    "start, end = pd.to_datetime('2023-09-01'), pd.to_datetime('2024-01-21')\n",
    "tanker_weekly_df = (\n",
    "    big_df.loc[start:end, tanker_cols].rename(columns=col_renamer)\n",
    "    .resample('W').mean()\n",
    ")\n",
    "ax2 = tanker_weekly_df.plot(title='Mean weekly tanker traffic by month')\n",
    "print(f'Minimum Suez cargo day={big_df[\"sue-Cargo\"].idxmin()}')\n",
    "print(f'Minimum Suez tanker week={big_df[\"sue-Tanker\"].idxmin()}')"
   ]
  },
  {
   "cell_type": "code",
   "execution_count": null,
   "id": "3",
   "metadata": {
    "tags": []
   },
   "outputs": [],
   "source": [
    "quarterly_deltas_df = quarterlies_df.pct_change()\n",
    "quarterly_deltas_df"
   ]
  },
  {
   "cell_type": "code",
   "execution_count": null,
   "id": "4",
   "metadata": {
    "tags": []
   },
   "outputs": [],
   "source": [
    "start, end = pd.to_datetime('2021-03-15'), pd.to_datetime('2021-04-01')\n",
    "three_day_suez_df = (\n",
    "    big_df.loc[start:end, ['sue-Cargo', 'sue-Tanker']]\n",
    "    .rolling(3).agg(['min', 'max'])\n",
    ")\n",
    "print('Rolling three-day traffic totals:')\n",
    "print('Extrema from 2021-03-15 through 2021-04-01')\n",
    "three_day_suez_df"
   ]
  },
  {
   "cell_type": "code",
   "execution_count": null,
   "id": "5",
   "metadata": {
    "tags": []
   },
   "outputs": [],
   "source": [
    "def augmented_idxmm(df, min_or_max):\n",
    "    vals = []\n",
    "    idxmm_s = df.idxmin() if min_or_max == 'min' else df.idxmax()\n",
    "\n",
    "    for colname, ix in zip(idxmm_s.index, idxmm_s.values):\n",
    "        vals.append(df.loc[ix, colname])\n",
    "    return pd.DataFrame.from_dict({'index': idxmm_s, 'value': vals})\n",
    "    \n",
    "print('MINS')\n",
    "augmented_idxmm(quarterly_deltas_df, 'min')\n",
    "\n",
    "\n"
   ]
  },
  {
   "cell_type": "code",
   "execution_count": null,
   "id": "6",
   "metadata": {
    "tags": []
   },
   "outputs": [],
   "source": [
    "print('MAXES')\n",
    "augmented_idxmm(quarterly_deltas_df, 'max')"
   ]
  },
  {
   "cell_type": "code",
   "execution_count": null,
   "id": "7",
   "metadata": {},
   "outputs": [],
   "source": []
  }
 ],
 "metadata": {
  "kernelspec": {
   "display_name": "Python 3 (ipykernel)",
   "language": "python",
   "name": "python3"
  },
  "language_info": {
   "codemirror_mode": {
    "name": "ipython",
    "version": 3
   },
   "file_extension": ".py",
   "mimetype": "text/x-python",
   "name": "python",
   "nbconvert_exporter": "python",
   "pygments_lexer": "ipython3",
   "version": "3.11.5"
  }
 },
 "nbformat": 4,
 "nbformat_minor": 5
}
