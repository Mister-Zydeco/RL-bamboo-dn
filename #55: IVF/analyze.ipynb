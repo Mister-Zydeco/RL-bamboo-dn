{
 "cells": [
  {
   "cell_type": "code",
   "execution_count": 1,
   "id": "3781cf87cb901f83",
   "metadata": {
    "collapsed": false,
    "ExecuteTime": {
     "end_time": "2024-03-24T03:49:39.755186Z",
     "start_time": "2024-03-24T03:49:17.920686Z"
    }
   },
   "outputs": [
    {
     "data": {
      "text/plain": "Index(['Year', 'LocationAbbr', 'LocationDesc', 'FacilityName',\n       'MedicalDirector', 'Address', 'City', 'ZipCode', 'Phone',\n       'Clinic Status', 'Topic', 'SubTopic', 'Question', 'Breakout_Category',\n       'Breakout', 'Data_Value', 'data_value_num',\n       'Data_Value_Footnote_Symbol', 'Data_Value_Footnote', 'Cycle_Count',\n       'ClinicId', 'DisplayOrder', 'TopicId', 'SubTopicId', 'QuestionId',\n       'BreakoutCategoryId', 'BreakoutId', 'Geolocation'],\n      dtype='object')"
     },
     "execution_count": 1,
     "metadata": {},
     "output_type": "execute_result"
    }
   ],
   "source": [
    "import pandas as pd\n",
    "import numpy as np\n",
    "import pyarrow as pa\n",
    "\n",
    "dir = './data'\n",
    "file = '2021_Final_Assisted_Reproductive_Technology__ART__Summary_20240307.csv'\n",
    "\n",
    "df = pd.read_csv(f'{dir}/{file}')\n",
    "df.columns"
   ]
  },
  {
   "cell_type": "code",
   "outputs": [
    {
     "name": "stdout",
     "output_type": "stream",
     "text": [
      "0                                      Data Verified By:\n",
      "1                          Number of intended retrievals\n",
      "5      Average number of intended retrievals per live...\n",
      "9      Percentage of intended retrievals resulting in...\n",
      "13     Percentage of intended retrievals resulting in...\n",
      "17                                  Number of retrievals\n",
      "21     Percentage of retrievals resulting in live-bir...\n",
      "25     Percentage of retrievals resulting in singleto...\n",
      "29                                   Number of transfers\n",
      "33     Percentage of transfers resulting in live-birt...\n",
      "37     Percentage of transfers resulting in singleton...\n",
      "41     Percentage of new patients having live-birth d...\n",
      "45     Percentage of new patients having live-birth d...\n",
      "49     Percentage of new patients having live-birth d...\n",
      "53     Average number of intended retrievals per new ...\n",
      "57     Average number of transfers per intended retri...\n",
      "73                                Total number of cycles\n",
      "78     Percentage of intended egg retrieval cycles wi...\n",
      "83     Percentage of cycles discontinued after retrie...\n",
      "88       Percentage of cycles for fertility perservation\n",
      "93     Percentage of transfers using a gestational ca...\n",
      "98          Percentage of transfers using frozen embryos\n",
      "103    Percentage of transfers of at least 1 embryo w...\n",
      "108    Percentage of transfers of at least 1 embryo w...\n",
      "113                                   Donor egg services\n",
      "114                              Donated embryo services\n",
      "115                     Embryo cryopreservation services\n",
      "116                        Egg cryopreservation services\n",
      "117                         Gestational carrier services\n",
      "118                                          SART member\n",
      "119                           Verified lab accreditation\n",
      "120                                          Male factor\n",
      "121                                        Endometriosis\n",
      "122                                         Tubal factor\n",
      "123                                Ovulatory dysfunction\n",
      "124                                       Uterine factor\n",
      "125                      Preimplantation genetic testing\n",
      "126                                  Gestational carrier\n",
      "127                           Diminished ovarian reserve\n",
      "128                                Egg or embryo banking\n",
      "129                             Recurrent pregnancy loss\n",
      "130                            Other factor, infertility\n",
      "131                        Other factor, non-infertility\n",
      "132                                   Unexplained factor\n",
      "133                     Cycles evaluating new procedures\n"
     ]
    }
   ],
   "source": [
    "\n",
    "cols_to_use = ['Year', 'LocationAbbr', 'LocationDesc', 'FacilityName',\n",
    "               'ClinicId', 'Question', 'QuestionId',\n",
    "               'data_value_num', 'Breakout_Category', 'Breakout'\n",
    "               ]\n",
    "df = df[cols_to_use]\n",
    "\n",
    "print(df['Question'].drop_duplicates().to_string())\n"
   ],
   "metadata": {
    "collapsed": true,
    "ExecuteTime": {
     "end_time": "2024-03-24T03:49:39.779210Z",
     "start_time": "2024-03-24T03:49:39.757708Z"
    }
   },
   "id": "initial_id",
   "execution_count": 2
  },
  {
   "cell_type": "code",
   "outputs": [
    {
     "data": {
      "text/plain": "          QuestionId\nClinicId            \n1                 48\n2                 48\n3                 48\n4                 48\n6                 48\n...              ...\n889               48\n892               48\n899               48\n921               48\n9999              45\n\n[454 rows x 1 columns]",
      "text/html": "<div>\n<style scoped>\n    .dataframe tbody tr th:only-of-type {\n        vertical-align: middle;\n    }\n\n    .dataframe tbody tr th {\n        vertical-align: top;\n    }\n\n    .dataframe thead th {\n        text-align: right;\n    }\n</style>\n<table border=\"1\" class=\"dataframe\">\n  <thead>\n    <tr style=\"text-align: right;\">\n      <th></th>\n      <th>QuestionId</th>\n    </tr>\n    <tr>\n      <th>ClinicId</th>\n      <th></th>\n    </tr>\n  </thead>\n  <tbody>\n    <tr>\n      <th>1</th>\n      <td>48</td>\n    </tr>\n    <tr>\n      <th>2</th>\n      <td>48</td>\n    </tr>\n    <tr>\n      <th>3</th>\n      <td>48</td>\n    </tr>\n    <tr>\n      <th>4</th>\n      <td>48</td>\n    </tr>\n    <tr>\n      <th>6</th>\n      <td>48</td>\n    </tr>\n    <tr>\n      <th>...</th>\n      <td>...</td>\n    </tr>\n    <tr>\n      <th>889</th>\n      <td>48</td>\n    </tr>\n    <tr>\n      <th>892</th>\n      <td>48</td>\n    </tr>\n    <tr>\n      <th>899</th>\n      <td>48</td>\n    </tr>\n    <tr>\n      <th>921</th>\n      <td>48</td>\n    </tr>\n    <tr>\n      <th>9999</th>\n      <td>45</td>\n    </tr>\n  </tbody>\n</table>\n<p>454 rows × 1 columns</p>\n</div>"
     },
     "execution_count": 3,
     "metadata": {},
     "output_type": "execute_result"
    }
   ],
   "source": [
    "df.loc[:, ['ClinicId', 'QuestionId']].drop_duplicates().groupby('ClinicId').count()"
   ],
   "metadata": {
    "collapsed": false,
    "ExecuteTime": {
     "end_time": "2024-03-24T03:49:39.850241Z",
     "start_time": "2024-03-24T03:49:39.781899Z"
    }
   },
   "id": "a15041108114d703",
   "execution_count": 3
  },
  {
   "cell_type": "code",
   "outputs": [
    {
     "name": "stdout",
     "output_type": "stream",
     "text": [
      "              ClinicId\n",
      "LocationAbbr          \n",
      "AK                   1\n",
      "AR                   1\n",
      "SD                   1\n",
      "RI                   1\n",
      "NH                   1\n",
      "ND                   1\n",
      "MT                   1\n",
      "ME                   1\n",
      "ID                   1\n",
      "VT                   2\n",
      "              ClinicId\n",
      "LocationAbbr          \n",
      "NY                  45\n",
      "CA                  78\n"
     ]
    }
   ],
   "source": [
    "by_state_counts = (df.loc[:, ['ClinicId', 'LocationAbbr']].drop_duplicates()\n",
    "                     .groupby('LocationAbbr').count().sort_values(by='ClinicId')\n",
    "                   )\n",
    "print(by_state_counts.iloc[:10, :])\n",
    "print(by_state_counts.iloc[-2:,:])"
   ],
   "metadata": {
    "collapsed": false,
    "ExecuteTime": {
     "end_time": "2024-03-24T03:49:39.876466Z",
     "start_time": "2024-03-24T03:49:39.854090Z"
    }
   },
   "id": "5254f4d34928bb80",
   "execution_count": 4
  },
  {
   "cell_type": "code",
   "outputs": [
    {
     "name": "stdout",
     "output_type": "stream",
     "text": [
      "QuestionId                                                                                 Question\n",
      "      Q400                                                                        Data Verified By:\n",
      "      Q301                                                            Number of intended retrievals\n",
      "      Q302                            Average number of intended retrievals per live-birth delivery\n",
      "      Q303                     Percentage of intended retrievals resulting in live-birth deliveries\n",
      "      Q304           Percentage of intended retrievals resulting in singleton live-birth deliveries\n",
      "      Q305                                                                     Number of retrievals\n",
      "      Q306                              Percentage of retrievals resulting in live-birth deliveries\n",
      "      Q307                    Percentage of retrievals resulting in singleton live-birth deliveries\n",
      "      Q308                                                                      Number of transfers\n",
      "      Q309                               Percentage of transfers resulting in live-birth deliveries\n",
      "      Q310                     Percentage of transfers resulting in singleton live-birth deliveries\n",
      "      Q311       Percentage of new patients having live-birth deliveries after 1 intended retrieval\n",
      "      Q312 Percentage of new patients having live-birth deliveries after 1 or 2 intended retrievals\n",
      "      Q313    Percentage of new patients having live-birth deliveries after all intended retrievals\n",
      "      Q314                                    Average number of intended retrievals per new patient\n",
      "      Q315                                       Average number of transfers per intended retrieval\n",
      "      Q316                                                                      Number of transfers\n",
      "      Q317                               Percentage of transfers resulting in live-birth deliveries\n",
      "      Q318                     Percentage of transfers resulting in singleton live-birth deliveries\n",
      "      Q319                                                                   Total number of cycles\n",
      "      Q320                   Percentage of intended egg retrieval cycles without any eggs retrieved\n",
      "      Q321         Percentage of cycles discontinued after retrieval and before transfer or banking\n",
      "      Q322                                          Percentage of cycles for fertility perservation\n",
      "      Q323                                      Percentage of transfers using a gestational carrier\n",
      "      Q324                                             Percentage of transfers using frozen embryos\n",
      "      Q325       Percentage of transfers of at least 1 embryo with intracytoplasmic sperm injection\n",
      "      Q326        Percentage of transfers of at least 1 embryo with preimplantation genetic testing\n",
      "      Q327                                                                       Donor egg services\n",
      "      Q328                                                                  Donated embryo services\n",
      "      Q329                                                         Embryo cryopreservation services\n",
      "      Q330                                                            Egg cryopreservation services\n",
      "      Q332                                                             Gestational carrier services\n",
      "      Q333                                                                              SART member\n",
      "      Q334                                                               Verified lab accreditation\n",
      "      Q335                                                                              Male factor\n",
      "      Q336                                                                            Endometriosis\n",
      "      Q337                                                                             Tubal factor\n",
      "      Q338                                                                    Ovulatory dysfunction\n",
      "      Q339                                                                           Uterine factor\n",
      "      Q340                                                          Preimplantation genetic testing\n",
      "      Q341                                                                      Gestational carrier\n",
      "      Q342                                                               Diminished ovarian reserve\n",
      "      Q343                                                                    Egg or embryo banking\n",
      "      Q344                                                                 Recurrent pregnancy loss\n",
      "      Q345                                                                Other factor, infertility\n",
      "      Q346                                                            Other factor, non-infertility\n",
      "      Q347                                                                       Unexplained factor\n",
      "      Q399                                                         Cycles evaluating new procedures\n",
      "   QuestionId                                                                                  Question\n",
      "41       Q311        Percentage of new patients having live-birth deliveries after 1 intended retrieval\n",
      "45       Q312  Percentage of new patients having live-birth deliveries after 1 or 2 intended retrievals\n"
     ]
    }
   ],
   "source": [
    "qs = df[['QuestionId', 'Question']].drop_duplicates()\n",
    "with pd.option_context('display.max_colwidth', None):\n",
    "    print(qs.to_string(index=False))\n",
    "    print(qs.query('Question.str.contains(\"after 1\")').to_string())"
   ],
   "metadata": {
    "collapsed": false,
    "ExecuteTime": {
     "end_time": "2024-03-24T03:49:39.904518Z",
     "start_time": "2024-03-24T03:49:39.878930Z"
    }
   },
   "id": "9de0be285285cb0",
   "execution_count": 5
  },
  {
   "cell_type": "code",
   "outputs": [
    {
     "data": {
      "text/plain": "       Year LocationAbbr LocationDesc  \\\n41     2021           FL      Florida   \n42     2021           FL      Florida   \n43     2021           FL      Florida   \n44     2021           FL      Florida   \n175    2021           IL     Illinois   \n...     ...          ...          ...   \n60785  2021          NaN     National   \n60786  2021          NaN        Other   \n60787  2021          NaN     National   \n60788  2021          NaN        Other   \n60789  2021          NaN     National   \n\n                                            FacilityName  ClinicId  \\\n41     Fertility & IVF Center of Miami, Inc., Fertili...       241   \n42     Fertility & IVF Center of Miami, Inc., Fertili...       241   \n43     Fertility & IVF Center of Miami, Inc., Fertili...       241   \n44     Fertility & IVF Center of Miami, Inc., Fertili...       241   \n175                  Vios Fertility Institute-Crest Hill       261   \n...                                                  ...       ...   \n60785                                           National      9999   \n60786                                           National      9999   \n60787                                           National      9999   \n60788                                           National      9999   \n60789                                           National      9999   \n\n                                                Question QuestionId  \\\n41     Percentage of new patients having live-birth d...       Q311   \n42     Percentage of new patients having live-birth d...       Q311   \n43     Percentage of new patients having live-birth d...       Q311   \n44     Percentage of new patients having live-birth d...       Q311   \n175    Percentage of new patients having live-birth d...       Q311   \n...                                                  ...        ...   \n60785  Percentage of new patients having live-birth d...       Q311   \n60786  Percentage of new patients having live-birth d...       Q311   \n60787  Percentage of new patients having live-birth d...       Q311   \n60788  Percentage of new patients having live-birth d...       Q311   \n60789  Percentage of new patients having live-birth d...       Q311   \n\n       data_value_num Breakout_Category Breakout  \n41               49.0    Age of Patient      <35  \n42               40.0    Age of Patient    35-37  \n43               24.3    Age of Patient    38-40  \n44               11.5    Age of Patient      >40  \n175              48.0    Age of Patient      <35  \n...               ...               ...      ...  \n60785            40.1    Age of Patient    35-37  \n60786            25.8    Age of Patient    38-40  \n60787            25.8    Age of Patient    38-40  \n60788             8.5    Age of Patient      >40  \n60789             8.5    Age of Patient      >40  \n\n[1820 rows x 10 columns]",
      "text/html": "<div>\n<style scoped>\n    .dataframe tbody tr th:only-of-type {\n        vertical-align: middle;\n    }\n\n    .dataframe tbody tr th {\n        vertical-align: top;\n    }\n\n    .dataframe thead th {\n        text-align: right;\n    }\n</style>\n<table border=\"1\" class=\"dataframe\">\n  <thead>\n    <tr style=\"text-align: right;\">\n      <th></th>\n      <th>Year</th>\n      <th>LocationAbbr</th>\n      <th>LocationDesc</th>\n      <th>FacilityName</th>\n      <th>ClinicId</th>\n      <th>Question</th>\n      <th>QuestionId</th>\n      <th>data_value_num</th>\n      <th>Breakout_Category</th>\n      <th>Breakout</th>\n    </tr>\n  </thead>\n  <tbody>\n    <tr>\n      <th>41</th>\n      <td>2021</td>\n      <td>FL</td>\n      <td>Florida</td>\n      <td>Fertility &amp; IVF Center of Miami, Inc., Fertili...</td>\n      <td>241</td>\n      <td>Percentage of new patients having live-birth d...</td>\n      <td>Q311</td>\n      <td>49.0</td>\n      <td>Age of Patient</td>\n      <td>&lt;35</td>\n    </tr>\n    <tr>\n      <th>42</th>\n      <td>2021</td>\n      <td>FL</td>\n      <td>Florida</td>\n      <td>Fertility &amp; IVF Center of Miami, Inc., Fertili...</td>\n      <td>241</td>\n      <td>Percentage of new patients having live-birth d...</td>\n      <td>Q311</td>\n      <td>40.0</td>\n      <td>Age of Patient</td>\n      <td>35-37</td>\n    </tr>\n    <tr>\n      <th>43</th>\n      <td>2021</td>\n      <td>FL</td>\n      <td>Florida</td>\n      <td>Fertility &amp; IVF Center of Miami, Inc., Fertili...</td>\n      <td>241</td>\n      <td>Percentage of new patients having live-birth d...</td>\n      <td>Q311</td>\n      <td>24.3</td>\n      <td>Age of Patient</td>\n      <td>38-40</td>\n    </tr>\n    <tr>\n      <th>44</th>\n      <td>2021</td>\n      <td>FL</td>\n      <td>Florida</td>\n      <td>Fertility &amp; IVF Center of Miami, Inc., Fertili...</td>\n      <td>241</td>\n      <td>Percentage of new patients having live-birth d...</td>\n      <td>Q311</td>\n      <td>11.5</td>\n      <td>Age of Patient</td>\n      <td>&gt;40</td>\n    </tr>\n    <tr>\n      <th>175</th>\n      <td>2021</td>\n      <td>IL</td>\n      <td>Illinois</td>\n      <td>Vios Fertility Institute-Crest Hill</td>\n      <td>261</td>\n      <td>Percentage of new patients having live-birth d...</td>\n      <td>Q311</td>\n      <td>48.0</td>\n      <td>Age of Patient</td>\n      <td>&lt;35</td>\n    </tr>\n    <tr>\n      <th>...</th>\n      <td>...</td>\n      <td>...</td>\n      <td>...</td>\n      <td>...</td>\n      <td>...</td>\n      <td>...</td>\n      <td>...</td>\n      <td>...</td>\n      <td>...</td>\n      <td>...</td>\n    </tr>\n    <tr>\n      <th>60785</th>\n      <td>2021</td>\n      <td>NaN</td>\n      <td>National</td>\n      <td>National</td>\n      <td>9999</td>\n      <td>Percentage of new patients having live-birth d...</td>\n      <td>Q311</td>\n      <td>40.1</td>\n      <td>Age of Patient</td>\n      <td>35-37</td>\n    </tr>\n    <tr>\n      <th>60786</th>\n      <td>2021</td>\n      <td>NaN</td>\n      <td>Other</td>\n      <td>National</td>\n      <td>9999</td>\n      <td>Percentage of new patients having live-birth d...</td>\n      <td>Q311</td>\n      <td>25.8</td>\n      <td>Age of Patient</td>\n      <td>38-40</td>\n    </tr>\n    <tr>\n      <th>60787</th>\n      <td>2021</td>\n      <td>NaN</td>\n      <td>National</td>\n      <td>National</td>\n      <td>9999</td>\n      <td>Percentage of new patients having live-birth d...</td>\n      <td>Q311</td>\n      <td>25.8</td>\n      <td>Age of Patient</td>\n      <td>38-40</td>\n    </tr>\n    <tr>\n      <th>60788</th>\n      <td>2021</td>\n      <td>NaN</td>\n      <td>Other</td>\n      <td>National</td>\n      <td>9999</td>\n      <td>Percentage of new patients having live-birth d...</td>\n      <td>Q311</td>\n      <td>8.5</td>\n      <td>Age of Patient</td>\n      <td>&gt;40</td>\n    </tr>\n    <tr>\n      <th>60789</th>\n      <td>2021</td>\n      <td>NaN</td>\n      <td>National</td>\n      <td>National</td>\n      <td>9999</td>\n      <td>Percentage of new patients having live-birth d...</td>\n      <td>Q311</td>\n      <td>8.5</td>\n      <td>Age of Patient</td>\n      <td>&gt;40</td>\n    </tr>\n  </tbody>\n</table>\n<p>1820 rows × 10 columns</p>\n</div>"
     },
     "execution_count": 6,
     "metadata": {},
     "output_type": "execute_result"
    }
   ],
   "source": [
    "df.query('QuestionId == \"Q311\"')"
   ],
   "metadata": {
    "collapsed": false,
    "ExecuteTime": {
     "end_time": "2024-03-24T03:49:39.929110Z",
     "start_time": "2024-03-24T03:49:39.907310Z"
    }
   },
   "id": "a1b03d792db09555",
   "execution_count": 6
  },
  {
   "cell_type": "code",
   "outputs": [
    {
     "data": {
      "text/plain": "                                                                 Retrievals  \\\nFacilityName                                       LocationAbbr               \nACFS Fertility, Arizona Associates for Reproduc... AZ                 151.0   \nAHN Center for Reproductive Medicine               PA                 175.0   \nAdvanced Fertility Associates Medical Group, Inc.  CA                  78.0   \nAdvanced Fertility Care, PLLC                      AZ                 220.0   \nAdvanced Fertility Center of Chicago               IL                 525.0   \n...                                                                     ...   \nWisconsin Fertility Institute                      WI                 148.0   \nWomack Army Medical Center                         NC                  75.0   \nWomen & Infants Fertility Center                   RI                 364.0   \nYale Fertility Center                              CT                 322.0   \nZouves Fertility Center                            CA                 181.0   \n\n                                                                 Transfers  \nFacilityName                                       LocationAbbr             \nACFS Fertility, Arizona Associates for Reproduc... AZ                 86.0  \nAHN Center for Reproductive Medicine               PA                134.0  \nAdvanced Fertility Associates Medical Group, Inc.  CA                 95.0  \nAdvanced Fertility Care, PLLC                      AZ                165.0  \nAdvanced Fertility Center of Chicago               IL                532.0  \n...                                                                    ...  \nWisconsin Fertility Institute                      WI                198.0  \nWomack Army Medical Center                         NC                101.0  \nWomen & Infants Fertility Center                   RI                371.0  \nYale Fertility Center                              CT                277.0  \nZouves Fertility Center                            CA                 69.0  \n\n[453 rows x 2 columns]",
      "text/html": "<div>\n<style scoped>\n    .dataframe tbody tr th:only-of-type {\n        vertical-align: middle;\n    }\n\n    .dataframe tbody tr th {\n        vertical-align: top;\n    }\n\n    .dataframe thead th {\n        text-align: right;\n    }\n</style>\n<table border=\"1\" class=\"dataframe\">\n  <thead>\n    <tr style=\"text-align: right;\">\n      <th></th>\n      <th></th>\n      <th>Retrievals</th>\n      <th>Transfers</th>\n    </tr>\n    <tr>\n      <th>FacilityName</th>\n      <th>LocationAbbr</th>\n      <th></th>\n      <th></th>\n    </tr>\n  </thead>\n  <tbody>\n    <tr>\n      <th>ACFS Fertility, Arizona Associates for Reproductive Health</th>\n      <th>AZ</th>\n      <td>151.0</td>\n      <td>86.0</td>\n    </tr>\n    <tr>\n      <th>AHN Center for Reproductive Medicine</th>\n      <th>PA</th>\n      <td>175.0</td>\n      <td>134.0</td>\n    </tr>\n    <tr>\n      <th>Advanced Fertility Associates Medical Group, Inc.</th>\n      <th>CA</th>\n      <td>78.0</td>\n      <td>95.0</td>\n    </tr>\n    <tr>\n      <th>Advanced Fertility Care, PLLC</th>\n      <th>AZ</th>\n      <td>220.0</td>\n      <td>165.0</td>\n    </tr>\n    <tr>\n      <th>Advanced Fertility Center of Chicago</th>\n      <th>IL</th>\n      <td>525.0</td>\n      <td>532.0</td>\n    </tr>\n    <tr>\n      <th>...</th>\n      <th>...</th>\n      <td>...</td>\n      <td>...</td>\n    </tr>\n    <tr>\n      <th>Wisconsin Fertility Institute</th>\n      <th>WI</th>\n      <td>148.0</td>\n      <td>198.0</td>\n    </tr>\n    <tr>\n      <th>Womack Army Medical Center</th>\n      <th>NC</th>\n      <td>75.0</td>\n      <td>101.0</td>\n    </tr>\n    <tr>\n      <th>Women &amp; Infants Fertility Center</th>\n      <th>RI</th>\n      <td>364.0</td>\n      <td>371.0</td>\n    </tr>\n    <tr>\n      <th>Yale Fertility Center</th>\n      <th>CT</th>\n      <td>322.0</td>\n      <td>277.0</td>\n    </tr>\n    <tr>\n      <th>Zouves Fertility Center</th>\n      <th>CA</th>\n      <td>181.0</td>\n      <td>69.0</td>\n    </tr>\n  </tbody>\n</table>\n<p>453 rows × 2 columns</p>\n</div>"
     },
     "execution_count": 7,
     "metadata": {},
     "output_type": "execute_result"
    }
   ],
   "source": [
    "by_clinic = (\n",
    "    df[['FacilityName', 'LocationAbbr', 'QuestionId', 'data_value_num']]\n",
    ")\n",
    "retrievals_transfers = (\n",
    "    by_clinic.query('QuestionId == \"Q305\" or QuestionId == \"Q308\"')\n",
    "              .groupby(['FacilityName', 'LocationAbbr', 'QuestionId'])\n",
    "              .sum().unstack(level='QuestionId')\n",
    ")\n",
    "              \n",
    "retrievals_transfers.columns = ['Retrievals', 'Transfers']\n",
    "retrievals_transfers\n",
    "\n"
   ],
   "metadata": {
    "collapsed": false,
    "ExecuteTime": {
     "end_time": "2024-03-24T03:49:40.004890Z",
     "start_time": "2024-03-24T03:49:39.930965Z"
    }
   },
   "id": "6595d687316d78cb",
   "execution_count": 7
  },
  {
   "cell_type": "code",
   "outputs": [
    {
     "data": {
      "text/plain": "Retrievals    486.0\nTransfers     467.0\nName: Totals, dtype: float64"
     },
     "execution_count": 8,
     "metadata": {},
     "output_type": "execute_result"
    }
   ],
   "source": [
    "(retrievals_transfers.query('LocationAbbr == \"AL\"')[['Retrievals', 'Transfers']]\n",
    "     .sum().rename('Totals')\n",
    " )"
   ],
   "metadata": {
    "collapsed": false,
    "ExecuteTime": {
     "end_time": "2024-03-24T03:49:40.017260Z",
     "start_time": "2024-03-24T03:49:40.007174Z"
    }
   },
   "id": "606d0ab818bfedc3",
   "execution_count": 8
  },
  {
   "cell_type": "code",
   "outputs": [
    {
     "data": {
      "text/plain": "                 1 xfer  1 or 2 xfers  all xfers\nLocationAbbr                                    \nAK             0.000000      0.000000   0.000000\nAL             9.500000     10.565000  10.565000\nAR            21.525000     23.325000  23.325000\nAZ            21.051923     23.559615  24.032692\nCA            14.701282     17.671154  18.632692\nCO            24.332143     28.100000  28.796429\nCT            27.220833     32.129167  33.895833\nDC            20.475000     24.237500  25.337500\nDE            21.100000     23.037500  23.037500\nFL            17.898077     20.058654  20.339423\nGA            20.322500     23.080000  23.650000\nHI             8.933333      9.445833   9.533333\nIA            37.125000     41.875000  43.137500\nID            26.075000     28.650000  29.000000\nIL            18.536458     22.397917  24.000000\nIN            17.296429     19.028571  19.246429\nKS            22.295000     24.485000  24.805000\nKY            13.350000     14.087500  14.175000\nLA            26.656250     29.987500  30.725000\nMA            32.984375     38.328125  39.609375\nMD            19.804167     24.170833  25.587500\nME            38.800000     44.600000  44.600000\nMI            23.141667     26.794444  27.572222\nMN            33.090000     39.100000  39.915000\nMO            19.925000     22.814286  23.917857\nMS             8.600000      9.916667   9.916667\nMT            25.625000     27.000000  27.750000\nNC            29.000000     31.554545  32.311364\nND            25.600000     27.025000  27.025000\nNE            20.612500     26.075000  28.237500\nNH             0.000000      0.000000   0.000000\nNJ            23.843333     28.061667  29.215000\nNM            22.587500     25.800000  26.587500\nNV            24.691667     28.504167  29.333333\nNY            17.517778     21.139444  22.644444\nOH            25.572727     29.165909  30.077273\nOK            12.268750     12.981250  13.075000\nOR            25.243750     29.131250  29.556250\nPA            22.466667     26.404167  27.091667\nPR             7.783333      8.341667   8.341667\nRI            26.675000     31.500000  32.075000\nSC            31.541667     36.891667  37.516667\nSD            16.850000     19.500000  20.575000\nTN            18.143750     21.315625  22.128125\nTX            17.692442     20.033140  20.560465\nUT            29.068750     32.281250  32.787500\nVA            16.111364     18.784091  20.386364\nVT            14.550000     18.525000  18.750000\nWA            18.031818     21.888636  23.236364\nWI            15.350000     17.654167  18.000000\nWV             6.562500      6.875000   6.875000",
      "text/html": "<div>\n<style scoped>\n    .dataframe tbody tr th:only-of-type {\n        vertical-align: middle;\n    }\n\n    .dataframe tbody tr th {\n        vertical-align: top;\n    }\n\n    .dataframe thead th {\n        text-align: right;\n    }\n</style>\n<table border=\"1\" class=\"dataframe\">\n  <thead>\n    <tr style=\"text-align: right;\">\n      <th></th>\n      <th>1 xfer</th>\n      <th>1 or 2 xfers</th>\n      <th>all xfers</th>\n    </tr>\n    <tr>\n      <th>LocationAbbr</th>\n      <th></th>\n      <th></th>\n      <th></th>\n    </tr>\n  </thead>\n  <tbody>\n    <tr>\n      <th>AK</th>\n      <td>0.000000</td>\n      <td>0.000000</td>\n      <td>0.000000</td>\n    </tr>\n    <tr>\n      <th>AL</th>\n      <td>9.500000</td>\n      <td>10.565000</td>\n      <td>10.565000</td>\n    </tr>\n    <tr>\n      <th>AR</th>\n      <td>21.525000</td>\n      <td>23.325000</td>\n      <td>23.325000</td>\n    </tr>\n    <tr>\n      <th>AZ</th>\n      <td>21.051923</td>\n      <td>23.559615</td>\n      <td>24.032692</td>\n    </tr>\n    <tr>\n      <th>CA</th>\n      <td>14.701282</td>\n      <td>17.671154</td>\n      <td>18.632692</td>\n    </tr>\n    <tr>\n      <th>CO</th>\n      <td>24.332143</td>\n      <td>28.100000</td>\n      <td>28.796429</td>\n    </tr>\n    <tr>\n      <th>CT</th>\n      <td>27.220833</td>\n      <td>32.129167</td>\n      <td>33.895833</td>\n    </tr>\n    <tr>\n      <th>DC</th>\n      <td>20.475000</td>\n      <td>24.237500</td>\n      <td>25.337500</td>\n    </tr>\n    <tr>\n      <th>DE</th>\n      <td>21.100000</td>\n      <td>23.037500</td>\n      <td>23.037500</td>\n    </tr>\n    <tr>\n      <th>FL</th>\n      <td>17.898077</td>\n      <td>20.058654</td>\n      <td>20.339423</td>\n    </tr>\n    <tr>\n      <th>GA</th>\n      <td>20.322500</td>\n      <td>23.080000</td>\n      <td>23.650000</td>\n    </tr>\n    <tr>\n      <th>HI</th>\n      <td>8.933333</td>\n      <td>9.445833</td>\n      <td>9.533333</td>\n    </tr>\n    <tr>\n      <th>IA</th>\n      <td>37.125000</td>\n      <td>41.875000</td>\n      <td>43.137500</td>\n    </tr>\n    <tr>\n      <th>ID</th>\n      <td>26.075000</td>\n      <td>28.650000</td>\n      <td>29.000000</td>\n    </tr>\n    <tr>\n      <th>IL</th>\n      <td>18.536458</td>\n      <td>22.397917</td>\n      <td>24.000000</td>\n    </tr>\n    <tr>\n      <th>IN</th>\n      <td>17.296429</td>\n      <td>19.028571</td>\n      <td>19.246429</td>\n    </tr>\n    <tr>\n      <th>KS</th>\n      <td>22.295000</td>\n      <td>24.485000</td>\n      <td>24.805000</td>\n    </tr>\n    <tr>\n      <th>KY</th>\n      <td>13.350000</td>\n      <td>14.087500</td>\n      <td>14.175000</td>\n    </tr>\n    <tr>\n      <th>LA</th>\n      <td>26.656250</td>\n      <td>29.987500</td>\n      <td>30.725000</td>\n    </tr>\n    <tr>\n      <th>MA</th>\n      <td>32.984375</td>\n      <td>38.328125</td>\n      <td>39.609375</td>\n    </tr>\n    <tr>\n      <th>MD</th>\n      <td>19.804167</td>\n      <td>24.170833</td>\n      <td>25.587500</td>\n    </tr>\n    <tr>\n      <th>ME</th>\n      <td>38.800000</td>\n      <td>44.600000</td>\n      <td>44.600000</td>\n    </tr>\n    <tr>\n      <th>MI</th>\n      <td>23.141667</td>\n      <td>26.794444</td>\n      <td>27.572222</td>\n    </tr>\n    <tr>\n      <th>MN</th>\n      <td>33.090000</td>\n      <td>39.100000</td>\n      <td>39.915000</td>\n    </tr>\n    <tr>\n      <th>MO</th>\n      <td>19.925000</td>\n      <td>22.814286</td>\n      <td>23.917857</td>\n    </tr>\n    <tr>\n      <th>MS</th>\n      <td>8.600000</td>\n      <td>9.916667</td>\n      <td>9.916667</td>\n    </tr>\n    <tr>\n      <th>MT</th>\n      <td>25.625000</td>\n      <td>27.000000</td>\n      <td>27.750000</td>\n    </tr>\n    <tr>\n      <th>NC</th>\n      <td>29.000000</td>\n      <td>31.554545</td>\n      <td>32.311364</td>\n    </tr>\n    <tr>\n      <th>ND</th>\n      <td>25.600000</td>\n      <td>27.025000</td>\n      <td>27.025000</td>\n    </tr>\n    <tr>\n      <th>NE</th>\n      <td>20.612500</td>\n      <td>26.075000</td>\n      <td>28.237500</td>\n    </tr>\n    <tr>\n      <th>NH</th>\n      <td>0.000000</td>\n      <td>0.000000</td>\n      <td>0.000000</td>\n    </tr>\n    <tr>\n      <th>NJ</th>\n      <td>23.843333</td>\n      <td>28.061667</td>\n      <td>29.215000</td>\n    </tr>\n    <tr>\n      <th>NM</th>\n      <td>22.587500</td>\n      <td>25.800000</td>\n      <td>26.587500</td>\n    </tr>\n    <tr>\n      <th>NV</th>\n      <td>24.691667</td>\n      <td>28.504167</td>\n      <td>29.333333</td>\n    </tr>\n    <tr>\n      <th>NY</th>\n      <td>17.517778</td>\n      <td>21.139444</td>\n      <td>22.644444</td>\n    </tr>\n    <tr>\n      <th>OH</th>\n      <td>25.572727</td>\n      <td>29.165909</td>\n      <td>30.077273</td>\n    </tr>\n    <tr>\n      <th>OK</th>\n      <td>12.268750</td>\n      <td>12.981250</td>\n      <td>13.075000</td>\n    </tr>\n    <tr>\n      <th>OR</th>\n      <td>25.243750</td>\n      <td>29.131250</td>\n      <td>29.556250</td>\n    </tr>\n    <tr>\n      <th>PA</th>\n      <td>22.466667</td>\n      <td>26.404167</td>\n      <td>27.091667</td>\n    </tr>\n    <tr>\n      <th>PR</th>\n      <td>7.783333</td>\n      <td>8.341667</td>\n      <td>8.341667</td>\n    </tr>\n    <tr>\n      <th>RI</th>\n      <td>26.675000</td>\n      <td>31.500000</td>\n      <td>32.075000</td>\n    </tr>\n    <tr>\n      <th>SC</th>\n      <td>31.541667</td>\n      <td>36.891667</td>\n      <td>37.516667</td>\n    </tr>\n    <tr>\n      <th>SD</th>\n      <td>16.850000</td>\n      <td>19.500000</td>\n      <td>20.575000</td>\n    </tr>\n    <tr>\n      <th>TN</th>\n      <td>18.143750</td>\n      <td>21.315625</td>\n      <td>22.128125</td>\n    </tr>\n    <tr>\n      <th>TX</th>\n      <td>17.692442</td>\n      <td>20.033140</td>\n      <td>20.560465</td>\n    </tr>\n    <tr>\n      <th>UT</th>\n      <td>29.068750</td>\n      <td>32.281250</td>\n      <td>32.787500</td>\n    </tr>\n    <tr>\n      <th>VA</th>\n      <td>16.111364</td>\n      <td>18.784091</td>\n      <td>20.386364</td>\n    </tr>\n    <tr>\n      <th>VT</th>\n      <td>14.550000</td>\n      <td>18.525000</td>\n      <td>18.750000</td>\n    </tr>\n    <tr>\n      <th>WA</th>\n      <td>18.031818</td>\n      <td>21.888636</td>\n      <td>23.236364</td>\n    </tr>\n    <tr>\n      <th>WI</th>\n      <td>15.350000</td>\n      <td>17.654167</td>\n      <td>18.000000</td>\n    </tr>\n    <tr>\n      <th>WV</th>\n      <td>6.562500</td>\n      <td>6.875000</td>\n      <td>6.875000</td>\n    </tr>\n  </tbody>\n</table>\n</div>"
     },
     "metadata": {},
     "output_type": "display_data"
    }
   ],
   "source": [
    "live_birth_questions = ['Q311', 'Q312', 'Q313']\n",
    "live_birth_category_means = (\n",
    "    by_clinic.query('QuestionId in @live_birth_questions').drop(columns=['FacilityName'])\n",
    "             .groupby(['LocationAbbr', 'QuestionId']).mean().unstack(level='QuestionId')\n",
    ")\n",
    "live_birth_category_means.columns = ['1 xfer', '1 or 2 xfers', 'all xfers']\n",
    "with pd.option_context('display.max_rows', None):\n",
    "    display(live_birth_category_means)"
   ],
   "metadata": {
    "collapsed": false,
    "ExecuteTime": {
     "end_time": "2024-03-24T03:49:40.048039Z",
     "start_time": "2024-03-24T03:49:40.020079Z"
    }
   },
   "id": "2636a079826d81e9",
   "execution_count": 9
  },
  {
   "cell_type": "code",
   "outputs": [],
   "source": [],
   "metadata": {
    "collapsed": false,
    "ExecuteTime": {
     "end_time": "2024-03-24T03:49:40.056268Z",
     "start_time": "2024-03-24T03:49:40.053871Z"
    }
   },
   "id": "a0eafca22076b696",
   "execution_count": 9
  }
 ],
 "metadata": {
  "kernelspec": {
   "display_name": "Python 3",
   "language": "python",
   "name": "python3"
  },
  "language_info": {
   "codemirror_mode": {
    "name": "ipython",
    "version": 2
   },
   "file_extension": ".py",
   "mimetype": "text/x-python",
   "name": "python",
   "nbconvert_exporter": "python",
   "pygments_lexer": "ipython2",
   "version": "2.7.6"
  }
 },
 "nbformat": 4,
 "nbformat_minor": 5
}
