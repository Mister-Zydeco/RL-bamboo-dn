{
 "cells": [
  {
   "cell_type": "code",
   "execution_count": 8,
   "id": "initial_id",
   "metadata": {
    "collapsed": true,
    "ExecuteTime": {
     "end_time": "2024-04-20T22:48:50.099620Z",
     "start_time": "2024-04-20T22:47:25.838168Z"
    }
   },
   "outputs": [],
   "source": [
    "import pandas as pd\n",
    "import os\n",
    "import pickle\n",
    "\n",
    "\n",
    "wiki_countries_url = 'https://en.wikipedia.org/wiki/List_of_countries_'\n",
    "area_url = f'{wiki_countries_url}and_dependencies_by_area'\n",
    "population_url = f'{wiki_countries_url}by_population'\n",
    "\n",
    "area_pickle_path = './data/areas.pickle'\n",
    "if os.path.isfile(area_pickle_path):\n",
    "    area_pickle_fh = open(area_pickle_path, 'rb')\n",
    "    area_df = pickle.load(area_pickle_fh)\n",
    "else:\n",
    "    area_pickle_fh = open(area_pickle_path, 'wb')\n",
    "    dfs = pd.read_html(area_url, match='Country / dependency')\n",
    "    area_df = dfs[0].rename(columns={'Unnamed: 0': 'Size rank'}).iloc[:, :6]\n",
    "    pickle.dump(area_df, area_pickle_fh)\n",
    "\n"
   ]
  },
  {
   "cell_type": "code",
   "outputs": [
    {
     "data": {
      "text/plain": "    Size rank                     Country / dependency  \\\n0           –                                    Earth   \n1           1                                   Russia   \n2           –                               Antarctica   \n3           2                                   Canada   \n4     3/4 [e]                                    China   \n..        ...                                      ...   \n259         –  Ashmore and Cartier Islands (Australia)   \n260         –            Coral Sea Islands (Australia)   \n261         –               Spratly Islands (disputed)   \n262       194                                   Monaco   \n263       195                             Vatican City   \n\n            Total in km2 (mi2)         Land in km2 (mi2)  \\\n0    510,072,000 (196,940,000)  148,940,000 (57,506,000)   \n1       17,098,246 (6,601,667)    16,376,870 (6,323,142)   \n2       14,200,000 (5,480,000)    14,200,000 (5,480,000)   \n3        9,984,670 (3,855,100)     9,093,507 (3,511,021)   \n4        9,596,960 (3,705,410)     9,326,410 (3,600,950)   \n..                         ...                       ...   \n259                  5.0 (1.9)                 5.0 (1.9)   \n260                  3.0 (1.2)                 3.0 (1.2)   \n261                 2.0 (0.77)                2.0 (0.77)   \n262                 2.0 (0.77)                2.0 (0.77)   \n263                0.49 (0.19)               0.49 (0.19)   \n\n            Water in km2 (mi2)  % water  \n0    361,132,000 (139,434,000)     70.8  \n1            721,380 (278,530)      4.2  \n2                            0      0.0  \n3            891,163 (344,080)      8.9  \n4            270,550 (104,460)      2.8  \n..                         ...      ...  \n259                          0      0.0  \n260                          0      0.0  \n261                          0      0.0  \n262                          0      0.0  \n263                          0      0.0  \n\n[264 rows x 6 columns]",
      "text/html": "<div>\n<style scoped>\n    .dataframe tbody tr th:only-of-type {\n        vertical-align: middle;\n    }\n\n    .dataframe tbody tr th {\n        vertical-align: top;\n    }\n\n    .dataframe thead th {\n        text-align: right;\n    }\n</style>\n<table border=\"1\" class=\"dataframe\">\n  <thead>\n    <tr style=\"text-align: right;\">\n      <th></th>\n      <th>Size rank</th>\n      <th>Country / dependency</th>\n      <th>Total in km2 (mi2)</th>\n      <th>Land in km2 (mi2)</th>\n      <th>Water in km2 (mi2)</th>\n      <th>% water</th>\n    </tr>\n  </thead>\n  <tbody>\n    <tr>\n      <th>0</th>\n      <td>–</td>\n      <td>Earth</td>\n      <td>510,072,000 (196,940,000)</td>\n      <td>148,940,000 (57,506,000)</td>\n      <td>361,132,000 (139,434,000)</td>\n      <td>70.8</td>\n    </tr>\n    <tr>\n      <th>1</th>\n      <td>1</td>\n      <td>Russia</td>\n      <td>17,098,246 (6,601,667)</td>\n      <td>16,376,870 (6,323,142)</td>\n      <td>721,380 (278,530)</td>\n      <td>4.2</td>\n    </tr>\n    <tr>\n      <th>2</th>\n      <td>–</td>\n      <td>Antarctica</td>\n      <td>14,200,000 (5,480,000)</td>\n      <td>14,200,000 (5,480,000)</td>\n      <td>0</td>\n      <td>0.0</td>\n    </tr>\n    <tr>\n      <th>3</th>\n      <td>2</td>\n      <td>Canada</td>\n      <td>9,984,670 (3,855,100)</td>\n      <td>9,093,507 (3,511,021)</td>\n      <td>891,163 (344,080)</td>\n      <td>8.9</td>\n    </tr>\n    <tr>\n      <th>4</th>\n      <td>3/4 [e]</td>\n      <td>China</td>\n      <td>9,596,960 (3,705,410)</td>\n      <td>9,326,410 (3,600,950)</td>\n      <td>270,550 (104,460)</td>\n      <td>2.8</td>\n    </tr>\n    <tr>\n      <th>...</th>\n      <td>...</td>\n      <td>...</td>\n      <td>...</td>\n      <td>...</td>\n      <td>...</td>\n      <td>...</td>\n    </tr>\n    <tr>\n      <th>259</th>\n      <td>–</td>\n      <td>Ashmore and Cartier Islands (Australia)</td>\n      <td>5.0 (1.9)</td>\n      <td>5.0 (1.9)</td>\n      <td>0</td>\n      <td>0.0</td>\n    </tr>\n    <tr>\n      <th>260</th>\n      <td>–</td>\n      <td>Coral Sea Islands (Australia)</td>\n      <td>3.0 (1.2)</td>\n      <td>3.0 (1.2)</td>\n      <td>0</td>\n      <td>0.0</td>\n    </tr>\n    <tr>\n      <th>261</th>\n      <td>–</td>\n      <td>Spratly Islands (disputed)</td>\n      <td>2.0 (0.77)</td>\n      <td>2.0 (0.77)</td>\n      <td>0</td>\n      <td>0.0</td>\n    </tr>\n    <tr>\n      <th>262</th>\n      <td>194</td>\n      <td>Monaco</td>\n      <td>2.0 (0.77)</td>\n      <td>2.0 (0.77)</td>\n      <td>0</td>\n      <td>0.0</td>\n    </tr>\n    <tr>\n      <th>263</th>\n      <td>195</td>\n      <td>Vatican City</td>\n      <td>0.49 (0.19)</td>\n      <td>0.49 (0.19)</td>\n      <td>0</td>\n      <td>0.0</td>\n    </tr>\n  </tbody>\n</table>\n<p>264 rows × 6 columns</p>\n</div>"
     },
     "execution_count": 10,
     "metadata": {},
     "output_type": "execute_result"
    }
   ],
   "source": [
    "area_df"
   ],
   "metadata": {
    "collapsed": false,
    "ExecuteTime": {
     "end_time": "2024-04-20T22:49:39.282672Z",
     "start_time": "2024-04-20T22:49:39.268397Z"
    }
   },
   "id": "4b65b3223019fbdc",
   "execution_count": 10
  },
  {
   "cell_type": "code",
   "outputs": [
    {
     "data": {
      "text/plain": "    Unnamed: 0                     Country / dependency  \\\n0            –                                    Earth   \n1            1                                   Russia   \n2            –                               Antarctica   \n3            2                                   Canada   \n4      3/4 [e]                                    China   \n..         ...                                      ...   \n259          –  Ashmore and Cartier Islands (Australia)   \n260          –            Coral Sea Islands (Australia)   \n261          –               Spratly Islands (disputed)   \n262        194                                   Monaco   \n263        195                             Vatican City   \n\n            Total in km2 (mi2)         Land in km2 (mi2)  \\\n0    510,072,000 (196,940,000)  148,940,000 (57,506,000)   \n1       17,098,246 (6,601,667)    16,376,870 (6,323,142)   \n2       14,200,000 (5,480,000)    14,200,000 (5,480,000)   \n3        9,984,670 (3,855,100)     9,093,507 (3,511,021)   \n4        9,596,960 (3,705,410)     9,326,410 (3,600,950)   \n..                         ...                       ...   \n259                  5.0 (1.9)                 5.0 (1.9)   \n260                  3.0 (1.2)                 3.0 (1.2)   \n261                 2.0 (0.77)                2.0 (0.77)   \n262                 2.0 (0.77)                2.0 (0.77)   \n263                0.49 (0.19)               0.49 (0.19)   \n\n            Water in km2 (mi2)  % water Unnamed: 6  \n0    361,132,000 (139,434,000)     70.8        NaN  \n1            721,380 (278,530)      4.2        [b]  \n2                            0      0.0        [c]  \n3            891,163 (344,080)      8.9        [d]  \n4            270,550 (104,460)      2.8        [f]  \n..                         ...      ...        ...  \n259                          0      0.0        [q]  \n260                          0      0.0       [db]  \n261                          0      0.0       [52]  \n262                          0      0.0       [dc]  \n263                          0      0.0       [dd]  \n\n[264 rows x 7 columns]",
      "text/html": "<div>\n<style scoped>\n    .dataframe tbody tr th:only-of-type {\n        vertical-align: middle;\n    }\n\n    .dataframe tbody tr th {\n        vertical-align: top;\n    }\n\n    .dataframe thead th {\n        text-align: right;\n    }\n</style>\n<table border=\"1\" class=\"dataframe\">\n  <thead>\n    <tr style=\"text-align: right;\">\n      <th></th>\n      <th>Unnamed: 0</th>\n      <th>Country / dependency</th>\n      <th>Total in km2 (mi2)</th>\n      <th>Land in km2 (mi2)</th>\n      <th>Water in km2 (mi2)</th>\n      <th>% water</th>\n      <th>Unnamed: 6</th>\n    </tr>\n  </thead>\n  <tbody>\n    <tr>\n      <th>0</th>\n      <td>–</td>\n      <td>Earth</td>\n      <td>510,072,000 (196,940,000)</td>\n      <td>148,940,000 (57,506,000)</td>\n      <td>361,132,000 (139,434,000)</td>\n      <td>70.8</td>\n      <td>NaN</td>\n    </tr>\n    <tr>\n      <th>1</th>\n      <td>1</td>\n      <td>Russia</td>\n      <td>17,098,246 (6,601,667)</td>\n      <td>16,376,870 (6,323,142)</td>\n      <td>721,380 (278,530)</td>\n      <td>4.2</td>\n      <td>[b]</td>\n    </tr>\n    <tr>\n      <th>2</th>\n      <td>–</td>\n      <td>Antarctica</td>\n      <td>14,200,000 (5,480,000)</td>\n      <td>14,200,000 (5,480,000)</td>\n      <td>0</td>\n      <td>0.0</td>\n      <td>[c]</td>\n    </tr>\n    <tr>\n      <th>3</th>\n      <td>2</td>\n      <td>Canada</td>\n      <td>9,984,670 (3,855,100)</td>\n      <td>9,093,507 (3,511,021)</td>\n      <td>891,163 (344,080)</td>\n      <td>8.9</td>\n      <td>[d]</td>\n    </tr>\n    <tr>\n      <th>4</th>\n      <td>3/4 [e]</td>\n      <td>China</td>\n      <td>9,596,960 (3,705,410)</td>\n      <td>9,326,410 (3,600,950)</td>\n      <td>270,550 (104,460)</td>\n      <td>2.8</td>\n      <td>[f]</td>\n    </tr>\n    <tr>\n      <th>...</th>\n      <td>...</td>\n      <td>...</td>\n      <td>...</td>\n      <td>...</td>\n      <td>...</td>\n      <td>...</td>\n      <td>...</td>\n    </tr>\n    <tr>\n      <th>259</th>\n      <td>–</td>\n      <td>Ashmore and Cartier Islands (Australia)</td>\n      <td>5.0 (1.9)</td>\n      <td>5.0 (1.9)</td>\n      <td>0</td>\n      <td>0.0</td>\n      <td>[q]</td>\n    </tr>\n    <tr>\n      <th>260</th>\n      <td>–</td>\n      <td>Coral Sea Islands (Australia)</td>\n      <td>3.0 (1.2)</td>\n      <td>3.0 (1.2)</td>\n      <td>0</td>\n      <td>0.0</td>\n      <td>[db]</td>\n    </tr>\n    <tr>\n      <th>261</th>\n      <td>–</td>\n      <td>Spratly Islands (disputed)</td>\n      <td>2.0 (0.77)</td>\n      <td>2.0 (0.77)</td>\n      <td>0</td>\n      <td>0.0</td>\n      <td>[52]</td>\n    </tr>\n    <tr>\n      <th>262</th>\n      <td>194</td>\n      <td>Monaco</td>\n      <td>2.0 (0.77)</td>\n      <td>2.0 (0.77)</td>\n      <td>0</td>\n      <td>0.0</td>\n      <td>[dc]</td>\n    </tr>\n    <tr>\n      <th>263</th>\n      <td>195</td>\n      <td>Vatican City</td>\n      <td>0.49 (0.19)</td>\n      <td>0.49 (0.19)</td>\n      <td>0</td>\n      <td>0.0</td>\n      <td>[dd]</td>\n    </tr>\n  </tbody>\n</table>\n<p>264 rows × 7 columns</p>\n</div>"
     },
     "execution_count": 5,
     "metadata": {},
     "output_type": "execute_result"
    }
   ],
   "source": [],
   "metadata": {
    "collapsed": false,
    "ExecuteTime": {
     "end_time": "2024-04-20T22:33:53.491885Z",
     "start_time": "2024-04-20T22:33:53.476012Z"
    }
   },
   "id": "3bb6bb1255b986cd",
   "execution_count": 5
  },
  {
   "cell_type": "code",
   "outputs": [],
   "source": [],
   "metadata": {
    "collapsed": false
   },
   "id": "4c68503b48674ea5"
  }
 ],
 "metadata": {
  "kernelspec": {
   "display_name": "Python 3",
   "language": "python",
   "name": "python3"
  },
  "language_info": {
   "codemirror_mode": {
    "name": "ipython",
    "version": 2
   },
   "file_extension": ".py",
   "mimetype": "text/x-python",
   "name": "python",
   "nbconvert_exporter": "python",
   "pygments_lexer": "ipython2",
   "version": "2.7.6"
  }
 },
 "nbformat": 4,
 "nbformat_minor": 5
}
