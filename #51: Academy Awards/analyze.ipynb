{
 "cells": [
  {
   "cell_type": "markdown",
   "id": "0",
   "metadata": {
    "tags": []
   },
   "source": [
    "The Year field in our csv file refers to the year when the film was released. The Academy\n",
    "Awards are given for films released in the  calendar year prior to the ceremony. And so in the\n",
    "discussion that follows, we'll speak of e.g. some 1943 award (ceremony date), but the relevant\n",
    "records in our csv file and dataframes will have the year 1942 (the release date of the film in question)."
   ]
  },
  {
   "cell_type": "code",
   "execution_count": null,
   "id": "1",
   "metadata": {
    "tags": []
   },
   "outputs": [],
   "source": [
    "import pandas as pd\n",
    "import matplotlib.pyplot as plt\n",
    "import pyarrow\n",
    "nl = '\\n'\n",
    "df = pd.read_csv('./data/oscars.csv', dtype_backend='pyarrow', sep='\\t')\n",
    "print(f'columns={df.columns}')\n",
    "columns = ['Year', 'CanonicalCategory', 'Film', 'FilmId', 'Name', 'Winner', 'Nominees']\n",
    "df = df.loc[:, columns].rename({'CanonicalCategory': 'Category'}, axis=1)\n",
    "df['Winner'] = df['Winner'].apply(lambda x: True if not pd.isna(x) else False)\n",
    "df['Year'] = pd.to_numeric(df['Year'].str.replace('../', '', regex=True))"
   ]
  },
  {
   "cell_type": "code",
   "execution_count": null,
   "id": "2",
   "metadata": {
    "tags": []
   },
   "outputs": [],
   "source": [
    "remakes_df = (\n",
    "    df.loc[:, ['FilmId', 'Film']].drop_duplicates()\n",
    "      .rename({'Film': 'Title'}, axis=1).loc[:, 'Title']\n",
    "      .value_counts().reset_index(name='count')\n",
    ")\n",
    "print(remakes_df.iloc[:5, :].to_string(index=False))"
   ]
  },
  {
   "cell_type": "code",
   "execution_count": null,
   "id": "3",
   "metadata": {
    "tags": []
   },
   "outputs": [],
   "source": [
    "print('\\nNominations')\n",
    "by_film_id = df.groupby('FilmId')\n",
    "film_id_to_title = (\n",
    "    by_film_id.nth(0).loc[:, ['FilmId', 'Film']]\n",
    "              .set_index('FilmId').to_dict()['Film']\n",
    ")\n",
    "nominations = df['FilmId'].value_counts().reset_index(name='count')\n",
    "nominations['Title'] = (\n",
    "   nominations['FilmId'].apply(lambda x: film_id_to_title[x])  \n",
    ")\n",
    "nominations = nominations.set_index('Title', drop=True).drop('FilmId', axis=1)\n",
    "nominations.head()\n"
   ]
  },
  {
   "cell_type": "code",
   "execution_count": null,
   "id": "4",
   "metadata": {
    "tags": []
   },
   "outputs": [],
   "source": [
    "\n",
    "winners = (\n",
    "    df.loc[df['Winner']].groupby('FilmId').size()\n",
    "      .reset_index(name='count').sort_values('count', ascending=False)\n",
    ")\n",
    "winners['Title'] = (\n",
    "   winners['FilmId'].apply(lambda x: film_id_to_title[x])\n",
    ")                    \n",
    "winners = winners.drop('FilmId', axis=1).set_index('Title')\n",
    "winners"
   ]
  },
  {
   "cell_type": "code",
   "execution_count": null,
   "id": "5",
   "metadata": {
    "tags": []
   },
   "outputs": [],
   "source": [
    "cats = df['Category'].drop_duplicates()\n",
    "#print(f'cats are\\n{nl.join(cats.to_list())}')\n",
    "actor_cats = cats[cats.str.contains('ACT')]\n",
    "print(f'actor_cats are\\n{nl.join(actor_cats.to_list())}')"
   ]
  },
  {
   "cell_type": "code",
   "execution_count": null,
   "id": "6",
   "metadata": {
    "tags": []
   },
   "outputs": [],
   "source": [
    "actor_nominees = (\n",
    "    df.query('(Category in @actor_cats)')['Name'].value_counts()\n",
    ")\n",
    "actor_nominees.head()"
   ]
  },
  {
   "cell_type": "code",
   "execution_count": null,
   "id": "7",
   "metadata": {
    "tags": []
   },
   "outputs": [],
   "source": [
    "actor_winners = (\n",
    "    df.query('Winner & (Category in @actor_cats)')['Name'].value_counts()\n",
    ")\n",
    "actor_winners.head()"
   ]
  },
  {
   "cell_type": "code",
   "execution_count": null,
   "id": "8",
   "metadata": {},
   "outputs": [],
   "source": [
    "career_nominations_gb_actor = (\n",
    "    df.query('Category in @actor_cats').loc[:, ['Year', 'Name']]\n",
    "        .sort_values('Year').groupby('Name')\n",
    ")    \n",
    "earliest, latest = (\n",
    "    career_nominations_gb_actor.nth(X).set_index('Name').rename({'Year': Y}, axis=1)\n",
    "    for X, Y in zip([0, -1], ['Earliest', 'Latest'])\n",
    ")                                                \n",
    "multiply_nominated = pd.concat([earliest, latest], axis=1)\n",
    "multiply_nominated['Span'] = multiply_nominated.apply(\n",
    "    (lambda row: row['Latest'] - row['Earliest']), axis=1\n",
    ")\n",
    "print(multiply_nominated.sort_values('Span', ascending=False).head())\n"
   ]
  },
  {
   "cell_type": "markdown",
   "id": "9",
   "metadata": {},
   "source": [
    "The question of how many awards are given each year is tricky. It's not the same as the number of categories. Multiple awards are given in each of the scientific/technical categories and in some honorary category. Let's look at that for the first few years from 2000 onward. The category names here can have unwiledy lengths, so we'll turn them into acronyms.\n",
    "\n",
    "It should be metioned that these records give the year that the film was made. The Academy Awards are always for films released in the previous calendar year."
   ]
  },
  {
   "cell_type": "code",
   "execution_count": null,
   "id": "10",
   "metadata": {
    "tags": []
   },
   "outputs": [],
   "source": [
    "cols = ['Year', 'Category', 'Winner', 'Film', 'Name']\n",
    "count_by_yrcat = (\n",
    "    df.query('Winner').loc[:, cols]\n",
    "      .groupby(['Year', 'Category']).size().reset_index(name='count')\n",
    "\n",
    ")\n",
    "def shorten_categories(series):\n",
    "    substitutions = {\n",
    "        'SCIENTIFIC (?:AND|OR) TECHNICAL AWARD': 'SATA',\n",
    "        'Scientific and Engineering Award': 'SEA',\n",
    "        'Technical Achievement Award': 'TAA', 'Academy Award of Merit': 'AAM',\n",
    "        'SPECIAL ACHIEVEMENT AWARD': 'SAA',\n",
    "        'JOHN A. BONNER MEDAL OF COMMENDATION': 'BONNER',\n",
    "        'JEAN HERSHOLT HUMANITARIAN AWARD': 'HERSHOLT',\n",
    "        'DOCUMENTARY': 'DOC', 'COMMENDATION': 'CMND',\n",
    "        'SHORT FILM': 'SHORT',\n",
    "        'IRVING G. THALBERG MEMORIAL AWARD': 'THALBERG',\n",
    "        'GORDON E. SAWYER AWARD': 'SAWYER',\n",
    "        'Original': 'Orgl',\n",
    "        'Song Score': 'SS', 'Adaptation Score': 'AS',\n",
    "        'Black-and-White': 'BW', 'IN A LEADING ROLE': '(Lead)',\n",
    "        'IN A SUPPORTING ROLE': '(Supp.)',\n",
    "        ' Picture': '', 'Live Action': 'LA'\n",
    "    }\n",
    "    first, new_series = True, None\n",
    "    for source, target in substitutions.items():\n",
    "        from_series = series if first else new_series\n",
    "        new_series = from_series.str.replace(source, target, regex=True)\n",
    "        first = False\n",
    "    return new_series\n",
    "\n",
    "count_by_yrcat['Category'] = shorten_categories(count_by_yrcat['Category'])\n",
    "print(\n",
    "    'To make sense out of the acronymized categories below, please refer to the\\n'\n",
    "    '\"substitutions\" dictionary in the code cell above:\\n'\n",
    ")\n",
    "print(\n",
    "    count_by_yrcat.query(\n",
    "        '(2000 <= Year <= 2005) and (count > 1)', engine='python'\n",
    "    )\n",
    "    .loc[:, ['Year', 'Category', 'count']].to_string(index=False)\n",
    ")"
   ]
  },
  {
   "cell_type": "markdown",
   "id": "11",
   "metadata": {},
   "source": [
    "Only the Awards of Merit get Oscar statuettes; the Sceintific and Engineering Awards get bronze tablets; and the Technical Achievement Awards get certficates.\n",
    "\n",
    "Let's exclude scientific and honorary categories. Are there multiple awards in any of the remaining categories in any year?"
   ]
  },
  {
   "cell_type": "code",
   "execution_count": null,
   "id": "12",
   "metadata": {
    "tags": []
   },
   "outputs": [],
   "source": [
    "scihon_cats = 'SATA|MEDAL|HERSHOLT|BONNER|CMND|SPECIAL|HONORARY|THALBERG'\n",
    "print(\n",
    "    count_by_yrcat.query(\n",
    "        '(count > 1) & ~(Category.str.contains(@scihon_cats))', engine='python')\n",
    "         .to_string(index=False)\n",
    ")"
   ]
  },
  {
   "cell_type": "markdown",
   "id": "13",
   "metadata": {},
   "source": [
    "Let's look at awards for fims made in 1928 in these non-technical and non-honorary categories."
   ]
  },
  {
   "cell_type": "code",
   "execution_count": null,
   "id": "14",
   "metadata": {
    "tags": []
   },
   "outputs": [],
   "source": [
    "cols1 = ['Year', 'Category', 'Film', 'Name']\n",
    "         \n",
    "multiple_nonsci_gb_yrcat = (\n",
    "    df.query('Winner & ~(Category.str.contains(@scihon_cats))', engine='python')\n",
    "       .loc[:, cols1].groupby(['Year', 'Category'])\n",
    ")\n",
    "\n",
    "ctr = 0\n",
    "for name, group in multiple_nonsci_gb_yrcat:\n",
    "    if name[0] != 1928:\n",
    "        break\n",
    "    if group.shape[0]> 1:\n",
    "        print(name)\n",
    "        print(group.loc[:, ['Film', 'Name']]\n",
    "              .to_string(index=False))\n",
    "        ctr += 1"
   ]
  },
  {
   "cell_type": "markdown",
   "id": "15",
   "metadata": {
    "tags": []
   },
   "source": [
    "In the first few years of the Academy Awards, it sometinmes happened that an actor or director works in\n",
    "more than one film in a year. These artists were nominated and won not for their\n",
    "work in a particular film as it is today, but rather for their work in all films they worked in\n",
    "during the relevant year. The systems changed to the way it is today starting with the 4th Academy Awards. See [the Wikipedia article on the Academy Awards](https://en.wikipedia.org/wiki/Academy_Awards#Milestones).\n",
    "\n",
    "So what about those two Actress awards in 1969?"
   ]
  },
  {
   "cell_type": "code",
   "execution_count": null,
   "id": "16",
   "metadata": {},
   "outputs": [],
   "source": [
    "for name, group in multiple_nonsci_gb_yrcat:\n",
    "    if name == (1968, 'ACTRESS'):\n",
    "        print(group.to_string())"
   ]
  },
  {
   "cell_type": "markdown",
   "id": "17",
   "metadata": {},
   "source": [
    "It turns out that Streisand and Hepburn each got exactly 3,030 votes and so two Oscars had to be awarded. [There have been six ties in the history of the Academy Awards](https://www.thewrap.com/6-times-oscars-tied-photos/). Let's see if we can find these occasions in our database:"
   ]
  },
  {
   "cell_type": "code",
   "execution_count": null,
   "id": "18",
   "metadata": {
    "tags": []
   },
   "outputs": [],
   "source": [
    "cols1 = ['Year', 'Category', 'Name']\n",
    "yrcatname = (\n",
    "    df.query('Winner & ~(Category.str.contains(@scihon_cats))', engine='python')\n",
    "       .loc[:, cols1].drop_duplicates().groupby(['Year', 'Category']).size()\n",
    "       .reset_index(name='size').query('size > 1')\n",
    ")\n",
    "yrcatname\n"
   ]
  },
  {
   "cell_type": "markdown",
   "id": "19",
   "metadata": {},
   "source": [
    "Apart from the six ties documented by TheWrap, there are two further anomalies of multiple awards win a single category: seven Assistant Director awards in 1934 and four awards for feature-length documentary in 1943. Let's first look at the AD Awards in general."
   ]
  },
  {
   "cell_type": "code",
   "execution_count": null,
   "id": "20",
   "metadata": {
    "tags": []
   },
   "outputs": [],
   "source": [
    "print(\n",
    "    df.query('Winner & (Category == \"ASSISTANT DIRECTOR\")')\n",
    "      .loc[:, ['Year', 'Name', 'Film']].to_string(index=False)\n",
    ")"
   ]
  },
  {
   "cell_type": "markdown",
   "id": "21",
   "metadata": {},
   "source": [
    "The AD category ended in 1938. In its inaugural year of 1934, seven different ADs received\n",
    "the award, none of them for any film in particular."
   ]
  },
  {
   "cell_type": "code",
   "execution_count": null,
   "id": "22",
   "metadata": {
    "tags": []
   },
   "outputs": [],
   "source": [
    "print(df.query('Winner & (Year == 1933) & (Category == \"ASSISTANT DIRECTOR\")',\n",
    "               engine='python').drop(columns=['FilmId', 'Film', 'Winner']))"
   ]
  },
  {
   "cell_type": "markdown",
   "id": "23",
   "metadata": {},
   "source": [
    "What about the four feature-length documentary winners in 1943?"
   ]
  },
  {
   "cell_type": "code",
   "execution_count": null,
   "id": "24",
   "metadata": {},
   "outputs": [],
   "source": [
    "print(df.query('Winner & (Year == 1942) & (Category == \"DOCUMENTARY (Feature)\")',\n",
    "               engine='python').drop(columns=['FilmId', 'Winner', 'Category'])\n",
    "               .to_string(index=False)\n",
    ")"
   ]
  },
  {
   "cell_type": "markdown",
   "id": "25",
   "metadata": {},
   "source": [
    "The data here appear to be erroneous: according to other sources, there was only one 1943 award for feature-length documentary and in fact it went to The Battle of Midway. See e.g.[the Academy's own website for the 1943 awards](https://www.oscars.org/oscars/ceremonies/1943)\n",
    "\n",
    "Let's assume that every kind of technical award counts as an award, not just the Awards of Merit. There is only one record per winner (as opposed to the first Actor and Actress awards, which had two and three records to reflect all the films the winning actor/actress had appeared in in the previous year).\n",
    "\n",
    "And so, to count the number of techical/honorary awards for each year, we just count the number of records with Winner == True in the technical/honorary categories for that year. To count the number of awards in the other categories, we count the number of distinct (Category, Name) pairs for that year, where Category belongs to the non-technical/honorary categories.\n",
    "\n",
    "Finally, we should account for the apparent error in the data for the 1943 awards for feature-length Documentary by subtracting 3 from the number of awards for that year."
   ]
  },
  {
   "cell_type": "code",
   "execution_count": null,
   "id": "26",
   "metadata": {
    "tags": []
   },
   "outputs": [],
   "source": [
    "scihon_winners_by_year = (\n",
    "    count_by_yrcat.loc[:, ['Year', 'Category', 'count']]\n",
    "            .query('Category.str.contains(@scihon_cats)', engine='python')\n",
    ")\n",
    "\n",
    "print(scihon_winners_by_year.head().to_string(index=False))\n",
    "print(scihon_winners_by_year.query(\n",
    "        'Year == 1998', engine='python'\n",
    "      ).to_string(index=False)\n",
    ")"
   ]
  },
  {
   "cell_type": "markdown",
   "id": "27",
   "metadata": {},
   "source": [
    "Wait a second! Were there really 38 scientific and honorary awards in 1999?"
   ]
  },
  {
   "cell_type": "code",
   "execution_count": null,
   "id": "28",
   "metadata": {
    "tags": []
   },
   "outputs": [],
   "source": [
    "scihon_details = df.loc[df['Winner'], ['Year', 'Category', 'Name', 'Nominees']]\n",
    "scihon_details['Nominees'] = scihon_details['Nominees'].map(\n",
    "    lambda x: f'{x[:30]}...' if  pd.notna(x) and len(x) > 30 else x)\n",
    "scihon_details['Category'] = shorten_categories(scihon_details['Category'])\n",
    "scihon_details = scihon_details.query(\n",
    "    'Category.str.contains(@scihon_cats)', engine='python')\n",
    "print(scihon_details.query('Year == 1998', engine='python')\n",
    "      .to_string(index=False)\n",
    ")"
   ]
  },
  {
   "cell_type": "markdown",
   "id": "29",
   "metadata": {},
   "source": [
    "According to [the Academy website for the 1999 scientific and technical awards]\n",
    "(https://www.oscars.org/sci-tech/ceremonies/1999), all the SATA nominees listed here actually got awards.\n",
    "And Gray, Kazan, and Jewison did indeed get the honorary awards shown above.\n",
    "Ok, so now let's get the yearly tally of scientifc and honorary awards."
   ]
  },
  {
   "cell_type": "code",
   "execution_count": null,
   "id": "30",
   "metadata": {},
   "outputs": [],
   "source": [
    "scitech_hon_awards_df = (\n",
    "    scihon_winners_by_year.drop('Category', axis=1).groupby('Year').sum()\n",
    "    .rename(columns={'count': 'scitech_hon_awards'})\n",
    ")\n",
    "print(scitech_hon_awards_df.to_string())"
   ]
  },
  {
   "cell_type": "code",
   "execution_count": null,
   "id": "31",
   "metadata": {},
   "outputs": [],
   "source": [
    "non_scitech_hon_awards_df = df.query('Winner').loc[:, cols]\n",
    "non_scitech_hon_awards_df['Category'] = shorten_categories(\n",
    "    non_scitech_hon_awards_df['Category']\n",
    ")\n",
    "non_scitech_hon_awards_df = (\n",
    "    non_scitech_hon_awards_df.query(\n",
    "        '~Category.str.contains(@scihon_cats)', engine='python'\n",
    "    )\n",
    "    .drop(columns=['Winner', 'Film']).drop_duplicates().loc[:, ['Year', 'Name']]\n",
    "    .groupby('Year').count().rename(columns={'Name': 'non_scitech_hon_awards'})\n",
    ")\n",
    "# Correct for erroneous data for 1943 awards for short documentary\n",
    "non_scitech_hon_awards_df.at[1942, 'non_scitech_hon_awards'] -=3\n",
    "print(non_scitech_hon_awards_df.to_string())"
   ]
  },
  {
   "cell_type": "markdown",
   "id": "32",
   "metadata": {},
   "source": [
    "We concatenate the series for scientific/honorary awards with that for all other awards, and sum the two. Finally, we adjust the year forward by one to reflect the year of the award ceremony rather than the year the awarded work was done. We plot the total."
   ]
  },
  {
   "cell_type": "code",
   "execution_count": null,
   "id": "33",
   "metadata": {},
   "outputs": [],
   "source": [
    "awards_df = pd.concat(\n",
    "    [scitech_hon_awards_df, non_scitech_hon_awards_df], axis=1\n",
    ").fillna(0).astype(int).sort_index(axis='index')\n",
    "awards_df.index = awards_df.index.map(lambda x: x + 1)\n",
    "awards_df['total'] = (\n",
    "    awards_df['scitech_hon_awards'] + awards_df['non_scitech_hon_awards']\n",
    ")\n",
    "awards_df.loc[:, 'total'].plot()"
   ]
  },
  {
   "cell_type": "code",
   "execution_count": null,
   "id": "34",
   "metadata": {},
   "outputs": [],
   "source": []
  }
 ],
 "metadata": {
  "kernelspec": {
   "display_name": "Python 3 (ipykernel)",
   "language": "python",
   "name": "python3"
  },
  "language_info": {
   "codemirror_mode": {
    "name": "ipython",
    "version": 3
   },
   "file_extension": ".py",
   "mimetype": "text/x-python",
   "name": "python",
   "nbconvert_exporter": "python",
   "pygments_lexer": "ipython3",
   "version": "3.11.7"
  }
 },
 "nbformat": 4,
 "nbformat_minor": 5
}
