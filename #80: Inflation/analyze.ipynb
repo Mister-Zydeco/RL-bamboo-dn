{
 "cells": [
  {
   "cell_type": "code",
   "id": "46be8dbb74278989",
   "metadata": {
    "collapsed": true,
    "ExecuteTime": {
     "end_time": "2024-08-26T14:10:50.590279Z",
     "start_time": "2024-08-26T14:10:50.451323Z"
    }
   },
   "source": [
    "import re\n",
    "import polars as pl\n",
    "\n",
    "df = pl.read_csv('data/oecd_prices.csv')"
   ],
   "outputs": [],
   "execution_count": 204
  },
  {
   "metadata": {
    "ExecuteTime": {
     "end_time": "2024-08-26T14:10:50.605926Z",
     "start_time": "2024-08-26T14:10:50.592286Z"
    }
   },
   "cell_type": "code",
   "source": [
    "df1 = (\n",
    "    df.filter(\n",
    "        (pl.col('REF_AREA') == 'USA') & (pl.col('UNIT_MEASURE') == 'PA') &(pl.col('FREQ') == 'M')\n",
    "     )['TIME_PERIOD', 'OBS_VALUE']\n",
    ")\n",
    "df1a = (\n",
    "    df1.with_columns(pl.col('TIME_PERIOD').str.to_date('%Y-%m').alias('TIME_PERIOD'))\n",
    "       .filter(pl.col('TIME_PERIOD').dt.year() >= 2020)\n",
    ")\n",
    "with pl.Config(tbl_rows=100):\n",
    "    print(df1a.with_columns(pl.col('OBS_VALUE').pct_change().alias('pct_change')))"
   ],
   "id": "b52ba23b0a954e4b",
   "outputs": [
    {
     "name": "stdout",
     "output_type": "stream",
     "text": [
      "shape: (55, 3)\n",
      "┌─────────────┬───────────┬────────────┐\n",
      "│ TIME_PERIOD ┆ OBS_VALUE ┆ pct_change │\n",
      "│ ---         ┆ ---       ┆ ---        │\n",
      "│ date        ┆ f64       ┆ f64        │\n",
      "╞═════════════╪═══════════╪════════════╡\n",
      "│ 2020-01-01  ┆ 2.486572  ┆ null       │\n",
      "│ 2020-02-01  ┆ 2.334874  ┆ -0.061007  │\n",
      "│ 2020-03-01  ┆ 1.539327  ┆ -0.340724  │\n",
      "│ 2020-04-01  ┆ 0.3290967 ┆ -0.786207  │\n",
      "│ 2020-05-01  ┆ 0.1179264 ┆ -0.641666  │\n",
      "│ 2020-06-01  ┆ 0.6457331 ┆ 4.47573    │\n",
      "│ 2020-07-01  ┆ 0.9860818 ┆ 0.527073   │\n",
      "│ 2020-08-01  ┆ 1.309645  ┆ 0.32813    │\n",
      "│ 2020-09-01  ┆ 1.371325  ┆ 0.047097   │\n",
      "│ 2020-10-01  ┆ 1.182066  ┆ -0.138012  │\n",
      "│ 2020-11-01  ┆ 1.174536  ┆ -0.00637   │\n",
      "│ 2020-12-01  ┆ 1.362005  ┆ 0.159611   │\n",
      "│ 2021-01-01  ┆ 1.39977   ┆ 0.027728   │\n",
      "│ 2021-02-01  ┆ 1.676215  ┆ 0.197493   │\n",
      "│ 2021-03-01  ┆ 2.619762  ┆ 0.562903   │\n",
      "│ 2021-04-01  ┆ 4.159695  ┆ 0.587814   │\n",
      "│ 2021-05-01  ┆ 4.992707  ┆ 0.200258   │\n",
      "│ 2021-06-01  ┆ 5.391451  ┆ 0.079865   │\n",
      "│ 2021-07-01  ┆ 5.365475  ┆ -0.004818  │\n",
      "│ 2021-08-01  ┆ 5.251272  ┆ -0.021285  │\n",
      "│ 2021-09-01  ┆ 5.390349  ┆ 0.026484   │\n",
      "│ 2021-10-01  ┆ 6.221869  ┆ 0.154261   │\n",
      "│ 2021-11-01  ┆ 6.809003  ┆ 0.094366   │\n",
      "│ 2021-12-01  ┆ 7.036403  ┆ 0.033397   │\n",
      "│ 2022-01-01  ┆ 7.479873  ┆ 0.063025   │\n",
      "│ 2022-02-01  ┆ 7.871064  ┆ 0.052299   │\n",
      "│ 2022-03-01  ┆ 8.542456  ┆ 0.085299   │\n",
      "│ 2022-04-01  ┆ 8.25863   ┆ -0.033225  │\n",
      "│ 2022-05-01  ┆ 8.581511  ┆ 0.039096   │\n",
      "│ 2022-06-01  ┆ 9.059758  ┆ 0.05573    │\n",
      "│ 2022-07-01  ┆ 8.524815  ┆ -0.059046  │\n",
      "│ 2022-08-01  ┆ 8.262692  ┆ -0.030748  │\n",
      "│ 2022-09-01  ┆ 8.20167   ┆ -0.007385  │\n",
      "│ 2022-10-01  ┆ 7.745427  ┆ -0.055628  │\n",
      "│ 2022-11-01  ┆ 7.110323  ┆ -0.081997  │\n",
      "│ 2022-12-01  ┆ 6.454401  ┆ -0.092249  │\n",
      "│ 2023-01-01  ┆ 6.410147  ┆ -0.006856  │\n",
      "│ 2023-02-01  ┆ 6.035613  ┆ -0.058428  │\n",
      "│ 2023-03-01  ┆ 4.984974  ┆ -0.174073  │\n",
      "│ 2023-04-01  ┆ 4.93032   ┆ -0.010964  │\n",
      "│ 2023-05-01  ┆ 4.047609  ┆ -0.179037  │\n",
      "│ 2023-06-01  ┆ 2.969178  ┆ -0.266437  │\n",
      "│ 2023-07-01  ┆ 3.17778   ┆ 0.070256   │\n",
      "│ 2023-08-01  ┆ 3.665112  ┆ 0.153356   │\n",
      "│ 2023-09-01  ┆ 3.699698  ┆ 0.009437   │\n",
      "│ 2023-10-01  ┆ 3.241145  ┆ -0.123943  │\n",
      "│ 2023-11-01  ┆ 3.137271  ┆ -0.032049  │\n",
      "│ 2023-12-01  ┆ 3.352123  ┆ 0.068484   │\n",
      "│ 2024-01-01  ┆ 3.090885  ┆ -0.077932  │\n",
      "│ 2024-02-01  ┆ 3.153171  ┆ 0.020152   │\n",
      "│ 2024-03-01  ┆ 3.477385  ┆ 0.102822   │\n",
      "│ 2024-04-01  ┆ 3.357364  ┆ -0.034515  │\n",
      "│ 2024-05-01  ┆ 3.269029  ┆ -0.026311  │\n",
      "│ 2024-06-01  ┆ 2.971397  ┆ -0.091046  │\n",
      "│ 2024-07-01  ┆ 2.894753  ┆ -0.025794  │\n",
      "└─────────────┴───────────┴────────────┘\n"
     ]
    }
   ],
   "execution_count": 205
  },
  {
   "metadata": {
    "ExecuteTime": {
     "end_time": "2024-08-26T14:10:50.614940Z",
     "start_time": "2024-08-26T14:10:50.608203Z"
    }
   },
   "cell_type": "code",
   "source": [
    "df2 = (\n",
    "    df.filter(\n",
    "        (~pl.col('REF_AREA').is_in(['EA_20', 'G20', 'EU27_2020'])) \n",
    "        & (pl.col('UNIT_MEASURE') == 'PA') & (pl.col('FREQ') == 'A')\n",
    "     )['REF_AREA', 'TIME_PERIOD', 'OBS_VALUE'].sort(by=pl.col('OBS_VALUE'), descending=True)\n",
    ")['REF_AREA', 'TIME_PERIOD', 'OBS_VALUE']\n",
    "df2a = df2.filter(pl.col('TIME_PERIOD') == '2020')\n",
    "print(df2a.head())\n",
    "print(df2a.tail())"
   ],
   "id": "4a8b5fd00599639",
   "outputs": [
    {
     "name": "stdout",
     "output_type": "stream",
     "text": [
      "shape: (5, 3)\n",
      "┌──────────┬─────────────┬───────────┐\n",
      "│ REF_AREA ┆ TIME_PERIOD ┆ OBS_VALUE │\n",
      "│ ---      ┆ ---         ┆ ---       │\n",
      "│ str      ┆ str         ┆ f64       │\n",
      "╞══════════╪═════════════╪═══════════╡\n",
      "│ ARG      ┆ 2020        ┆ 42.01509  │\n",
      "│ TUR      ┆ 2020        ┆ 12.3      │\n",
      "│ IND      ┆ 2020        ┆ 5.561349  │\n",
      "│ SAU      ┆ 2020        ┆ 3.445458  │\n",
      "│ MEX      ┆ 2020        ┆ 3.396834  │\n",
      "└──────────┴─────────────┴───────────┘\n",
      "shape: (5, 3)\n",
      "┌──────────┬─────────────┬───────────┐\n",
      "│ REF_AREA ┆ TIME_PERIOD ┆ OBS_VALUE │\n",
      "│ ---      ┆ ---         ┆ ---       │\n",
      "│ str      ┆ str         ┆ f64       │\n",
      "╞══════════╪═════════════╪═══════════╡\n",
      "│ FRA      ┆ 2020        ┆ 0.5       │\n",
      "│ DEU      ┆ 2020        ┆ 0.4       │\n",
      "│ EA20     ┆ 2020        ┆ 0.3       │\n",
      "│ JPN      ┆ 2020        ┆ -0.024996 │\n",
      "│ ITA      ┆ 2020        ┆ -0.1      │\n",
      "└──────────┴─────────────┴───────────┘\n"
     ]
    }
   ],
   "execution_count": 206
  },
  {
   "metadata": {},
   "cell_type": "markdown",
   "source": "",
   "id": "303139191acbfaf1"
  },
  {
   "metadata": {
    "ExecuteTime": {
     "end_time": "2024-08-26T14:10:50.629309Z",
     "start_time": "2024-08-26T14:10:50.619488Z"
    }
   },
   "cell_type": "code",
   "source": [
    "df3 = (\n",
    "    df2.sort(by='TIME_PERIOD').filter(pl.col('TIME_PERIOD') >= '2010')\n",
    "       .pivot(on='TIME_PERIOD', index='REF_AREA', values='OBS_VALUE')\n",
    ")\n",
    "df3"
   ],
   "id": "daab6633ce66ab",
   "outputs": [
    {
     "data": {
      "text/plain": [
       "shape: (20, 15)\n",
       "┌──────────┬──────────┬──────────┬──────────┬───┬───────────┬──────────┬──────────┬──────────┐\n",
       "│ REF_AREA ┆ 2010     ┆ 2011     ┆ 2012     ┆ … ┆ 2020      ┆ 2021     ┆ 2022     ┆ 2023     │\n",
       "│ ---      ┆ ---      ┆ ---      ┆ ---      ┆   ┆ ---       ┆ ---      ┆ ---      ┆ ---      │\n",
       "│ str      ┆ f64      ┆ f64      ┆ f64      ┆   ┆ f64       ┆ f64      ┆ f64      ┆ f64      │\n",
       "╞══════════╪══════════╪══════════╪══════════╪═══╪═══════════╪══════════╪══════════╪══════════╡\n",
       "│ IND      ┆ 11.98939 ┆ 8.858361 ┆ 9.312446 ┆ … ┆ 5.561349  ┆ 4.890086 ┆ 5.90043  ┆ 5.552331 │\n",
       "│ TUR      ┆ 8.6      ┆ 6.5      ┆ 9.0      ┆ … ┆ 12.3      ┆ 19.6     ┆ 72.3     ┆ 54.0     │\n",
       "│ RUS      ┆ 6.849392 ┆ 8.440471 ┆ 5.074733 ┆ … ┆ 3.38166   ┆ 6.694456 ┆ null     ┆ null     │\n",
       "│ SAU      ┆ 5.339416 ┆ 5.826217 ┆ 2.86627  ┆ … ┆ 3.445458  ┆ 3.06329  ┆ 2.474074 ┆ 2.327085 │\n",
       "│ IDN      ┆ 5.134203 ┆ 5.356048 ┆ 4.279512 ┆ … ┆ 1.919834  ┆ 1.56008  ┆ 4.209456 ┆ 3.669401 │\n",
       "│ BRA      ┆ 5.038727 ┆ 6.63645  ┆ 5.403499 ┆ … ┆ 3.211768  ┆ 8.30166  ┆ 9.280107 ┆ 4.593563 │\n",
       "│ MEX      ┆ 4.156728 ┆ 3.40738  ┆ 4.111508 ┆ … ┆ 3.396834  ┆ 5.689209 ┆ 7.896276 ┆ 5.527961 │\n",
       "│ ZAF      ┆ 4.08973  ┆ 4.999267 ┆ 5.724658 ┆ … ┆ 3.210036  ┆ 4.611672 ┆ 7.039727 ┆ 6.073908 │\n",
       "│ GBR      ┆ 3.3      ┆ 4.5      ┆ 2.8      ┆ … ┆ 0.8812616 ┆ 2.582376 ┆ 9.053559 ┆ 7.30187  │\n",
       "│ CHN      ┆ 3.3      ┆ 5.4      ┆ 2.6      ┆ … ┆ 2.5       ┆ 0.9      ┆ 2.0      ┆ 0.2      │\n",
       "│ KOR      ┆ 2.939286 ┆ 4.025965 ┆ 2.187071 ┆ … ┆ 0.537288  ┆ 2.498333 ┆ 5.089514 ┆ 3.597456 │\n",
       "│ AUS      ┆ 2.91834  ┆ 3.30385  ┆ 1.76278  ┆ … ┆ 0.8469055 ┆ 2.86391  ┆ 6.594097 ┆ 5.597015 │\n",
       "│ CAN      ┆ 1.776872 ┆ 2.912135 ┆ 1.515678 ┆ … ┆ 0.7169997 ┆ 3.395193 ┆ 6.802801 ┆ 3.879002 │\n",
       "│ FRA      ┆ 1.7      ┆ 2.3      ┆ 2.2      ┆ … ┆ 0.5       ┆ 2.1      ┆ 5.9      ┆ 5.7      │\n",
       "│ USA      ┆ 1.640043 ┆ 3.156842 ┆ 2.069337 ┆ … ┆ 1.233584  ┆ 4.697859 ┆ 8.0028   ┆ 4.116338 │\n",
       "│ EA20     ┆ 1.6      ┆ 2.7      ┆ 2.5      ┆ … ┆ 0.3       ┆ 2.6      ┆ 8.4      ┆ 5.4      │\n",
       "│ ITA      ┆ 1.6      ┆ 2.9      ┆ 3.3      ┆ … ┆ -0.1      ┆ 1.9      ┆ 8.7      ┆ 5.9      │\n",
       "│ DEU      ┆ 1.1      ┆ 2.5      ┆ 2.2      ┆ … ┆ 0.4       ┆ 3.2      ┆ 8.7      ┆ 6.0      │\n",
       "│ JPN      ┆ -0.7     ┆ -0.3     ┆ 0.0      ┆ … ┆ -0.024996 ┆ null     ┆ null     ┆ null     │\n",
       "│ ARG      ┆ null     ┆ null     ┆ null     ┆ … ┆ 42.01509  ┆ 48.40938 ┆ 72.43076 ┆ 133.4889 │\n",
       "└──────────┴──────────┴──────────┴──────────┴───┴───────────┴──────────┴──────────┴──────────┘"
      ],
      "text/html": [
       "<div><style>\n",
       ".dataframe > thead > tr,\n",
       ".dataframe > tbody > tr {\n",
       "  text-align: right;\n",
       "  white-space: pre-wrap;\n",
       "}\n",
       "</style>\n",
       "<small>shape: (20, 15)</small><table border=\"1\" class=\"dataframe\"><thead><tr><th>REF_AREA</th><th>2010</th><th>2011</th><th>2012</th><th>2013</th><th>2014</th><th>2015</th><th>2016</th><th>2017</th><th>2018</th><th>2019</th><th>2020</th><th>2021</th><th>2022</th><th>2023</th></tr><tr><td>str</td><td>f64</td><td>f64</td><td>f64</td><td>f64</td><td>f64</td><td>f64</td><td>f64</td><td>f64</td><td>f64</td><td>f64</td><td>f64</td><td>f64</td><td>f64</td><td>f64</td></tr></thead><tbody><tr><td>&quot;IND&quot;</td><td>11.98939</td><td>8.858361</td><td>9.312446</td><td>10.90764</td><td>6.353195</td><td>5.872427</td><td>4.941027</td><td>2.490887</td><td>4.8607</td><td>7.659695</td><td>5.561349</td><td>4.890086</td><td>5.90043</td><td>5.552331</td></tr><tr><td>&quot;TUR&quot;</td><td>8.6</td><td>6.5</td><td>9.0</td><td>7.5</td><td>8.9</td><td>7.7</td><td>7.7</td><td>11.1</td><td>16.3</td><td>15.2</td><td>12.3</td><td>19.6</td><td>72.3</td><td>54.0</td></tr><tr><td>&quot;RUS&quot;</td><td>6.849392</td><td>8.440471</td><td>5.074733</td><td>6.753717</td><td>7.823416</td><td>15.5344</td><td>7.042436</td><td>3.683334</td><td>2.878305</td><td>4.470367</td><td>3.38166</td><td>6.694456</td><td>null</td><td>null</td></tr><tr><td>&quot;SAU&quot;</td><td>5.339416</td><td>5.826217</td><td>2.86627</td><td>3.532522</td><td>2.23629</td><td>1.206073</td><td>2.06884</td><td>-0.838195</td><td>2.458142</td><td>-2.093333</td><td>3.445458</td><td>3.06329</td><td>2.474074</td><td>2.327085</td></tr><tr><td>&quot;IDN&quot;</td><td>5.134203</td><td>5.356048</td><td>4.279512</td><td>6.4125</td><td>6.394926</td><td>6.363121</td><td>3.525805</td><td>3.808798</td><td>3.198346</td><td>3.030587</td><td>1.919834</td><td>1.56008</td><td>4.209456</td><td>3.669401</td></tr><tr><td>&quot;BRA&quot;</td><td>5.038727</td><td>6.63645</td><td>5.403499</td><td>6.204311</td><td>6.32904</td><td>9.029901</td><td>8.739143</td><td>3.446373</td><td>3.66485</td><td>3.732976</td><td>3.211768</td><td>8.30166</td><td>9.280107</td><td>4.593563</td></tr><tr><td>&quot;MEX&quot;</td><td>4.156728</td><td>3.40738</td><td>4.111508</td><td>3.80639</td><td>4.018617</td><td>2.720641</td><td>2.821708</td><td>6.041456</td><td>4.899351</td><td>3.635961</td><td>3.396834</td><td>5.689209</td><td>7.896276</td><td>5.527961</td></tr><tr><td>&quot;ZAF&quot;</td><td>4.08973</td><td>4.999267</td><td>5.724658</td><td>5.784469</td><td>6.129838</td><td>4.540642</td><td>6.571396</td><td>5.184247</td><td>4.517165</td><td>4.120246</td><td>3.210036</td><td>4.611672</td><td>7.039727</td><td>6.073908</td></tr><tr><td>&quot;GBR&quot;</td><td>3.3</td><td>4.5</td><td>2.8</td><td>2.6</td><td>1.5</td><td>0.0</td><td>0.7</td><td>2.7</td><td>2.5</td><td>1.8</td><td>0.8812616</td><td>2.582376</td><td>9.053559</td><td>7.30187</td></tr><tr><td>&quot;CHN&quot;</td><td>3.3</td><td>5.4</td><td>2.6</td><td>2.6</td><td>2.0</td><td>1.4</td><td>2.0</td><td>1.6</td><td>2.1</td><td>2.9</td><td>2.5</td><td>0.9</td><td>2.0</td><td>0.2</td></tr><tr><td>&quot;KOR&quot;</td><td>2.939286</td><td>4.025965</td><td>2.187071</td><td>1.301347</td><td>1.274774</td><td>0.7063318</td><td>0.9716858</td><td>1.944332</td><td>1.475839</td><td>0.3830003</td><td>0.537288</td><td>2.498333</td><td>5.089514</td><td>3.597456</td></tr><tr><td>&quot;AUS&quot;</td><td>2.91834</td><td>3.30385</td><td>1.76278</td><td>2.449889</td><td>2.487923</td><td>1.508367</td><td>1.276991</td><td>1.948647</td><td>1.911401</td><td>1.610768</td><td>0.8469055</td><td>2.86391</td><td>6.594097</td><td>5.597015</td></tr><tr><td>&quot;CAN&quot;</td><td>1.776872</td><td>2.912135</td><td>1.515678</td><td>0.9382919</td><td>1.906636</td><td>1.125241</td><td>1.42876</td><td>1.596884</td><td>2.268226</td><td>1.949269</td><td>0.7169997</td><td>3.395193</td><td>6.802801</td><td>3.879002</td></tr><tr><td>&quot;FRA&quot;</td><td>1.7</td><td>2.3</td><td>2.2</td><td>1.0</td><td>0.6</td><td>0.1</td><td>0.3</td><td>1.2</td><td>2.1</td><td>1.3</td><td>0.5</td><td>2.1</td><td>5.9</td><td>5.7</td></tr><tr><td>&quot;USA&quot;</td><td>1.640043</td><td>3.156842</td><td>2.069337</td><td>1.464833</td><td>1.622223</td><td>0.1186271</td><td>1.261583</td><td>2.13011</td><td>2.442583</td><td>1.81221</td><td>1.233584</td><td>4.697859</td><td>8.0028</td><td>4.116338</td></tr><tr><td>&quot;EA20&quot;</td><td>1.6</td><td>2.7</td><td>2.5</td><td>1.4</td><td>0.4</td><td>0.2</td><td>0.2</td><td>1.5</td><td>1.8</td><td>1.2</td><td>0.3</td><td>2.6</td><td>8.4</td><td>5.4</td></tr><tr><td>&quot;ITA&quot;</td><td>1.6</td><td>2.9</td><td>3.3</td><td>1.2</td><td>0.2</td><td>0.1</td><td>-0.1</td><td>1.3</td><td>1.2</td><td>0.6</td><td>-0.1</td><td>1.9</td><td>8.7</td><td>5.9</td></tr><tr><td>&quot;DEU&quot;</td><td>1.1</td><td>2.5</td><td>2.2</td><td>1.6</td><td>0.8</td><td>0.7</td><td>0.4</td><td>1.7</td><td>1.9</td><td>1.4</td><td>0.4</td><td>3.2</td><td>8.7</td><td>6.0</td></tr><tr><td>&quot;JPN&quot;</td><td>-0.7</td><td>-0.3</td><td>0.0</td><td>0.4</td><td>2.7</td><td>0.8</td><td>-0.1</td><td>0.4841998</td><td>0.9890946</td><td>0.4687762</td><td>-0.024996</td><td>null</td><td>null</td><td>null</td></tr><tr><td>&quot;ARG&quot;</td><td>null</td><td>null</td><td>null</td><td>null</td><td>null</td><td>null</td><td>null</td><td>null</td><td>34.27723</td><td>53.54831</td><td>42.01509</td><td>48.40938</td><td>72.43076</td><td>133.4889</td></tr></tbody></table></div>"
      ]
     },
     "execution_count": 207,
     "metadata": {},
     "output_type": "execute_result"
    }
   ],
   "execution_count": 207
  },
  {
   "metadata": {
    "ExecuteTime": {
     "end_time": "2024-08-26T14:10:50.635915Z",
     "start_time": "2024-08-26T14:10:50.630581Z"
    }
   },
   "cell_type": "code",
   "source": "df3.columns",
   "id": "dbc61d85d0d6dddb",
   "outputs": [
    {
     "data": {
      "text/plain": [
       "['REF_AREA',\n",
       " '2010',\n",
       " '2011',\n",
       " '2012',\n",
       " '2013',\n",
       " '2014',\n",
       " '2015',\n",
       " '2016',\n",
       " '2017',\n",
       " '2018',\n",
       " '2019',\n",
       " '2020',\n",
       " '2021',\n",
       " '2022',\n",
       " '2023']"
      ]
     },
     "execution_count": 208,
     "metadata": {},
     "output_type": "execute_result"
    }
   ],
   "execution_count": 208
  },
  {
   "metadata": {
    "ExecuteTime": {
     "end_time": "2024-08-26T14:10:50.644014Z",
     "start_time": "2024-08-26T14:10:50.638159Z"
    }
   },
   "cell_type": "code",
   "source": "df3['REF_AREA']",
   "id": "8030a08638873fff",
   "outputs": [
    {
     "data": {
      "text/plain": [
       "shape: (20,)\n",
       "Series: 'REF_AREA' [str]\n",
       "[\n",
       "\t\"IND\"\n",
       "\t\"TUR\"\n",
       "\t\"RUS\"\n",
       "\t\"SAU\"\n",
       "\t\"IDN\"\n",
       "\t\"BRA\"\n",
       "\t\"MEX\"\n",
       "\t\"ZAF\"\n",
       "\t\"GBR\"\n",
       "\t\"CHN\"\n",
       "\t\"KOR\"\n",
       "\t\"AUS\"\n",
       "\t\"CAN\"\n",
       "\t\"FRA\"\n",
       "\t\"USA\"\n",
       "\t\"EA20\"\n",
       "\t\"ITA\"\n",
       "\t\"DEU\"\n",
       "\t\"JPN\"\n",
       "\t\"ARG\"\n",
       "]"
      ],
      "text/html": [
       "<div><style>\n",
       ".dataframe > thead > tr,\n",
       ".dataframe > tbody > tr {\n",
       "  text-align: right;\n",
       "  white-space: pre-wrap;\n",
       "}\n",
       "</style>\n",
       "<small>shape: (20,)</small><table border=\"1\" class=\"dataframe\"><thead><tr><th>REF_AREA</th></tr><tr><td>str</td></tr></thead><tbody><tr><td>&quot;IND&quot;</td></tr><tr><td>&quot;TUR&quot;</td></tr><tr><td>&quot;RUS&quot;</td></tr><tr><td>&quot;SAU&quot;</td></tr><tr><td>&quot;IDN&quot;</td></tr><tr><td>&quot;BRA&quot;</td></tr><tr><td>&quot;MEX&quot;</td></tr><tr><td>&quot;ZAF&quot;</td></tr><tr><td>&quot;GBR&quot;</td></tr><tr><td>&quot;CHN&quot;</td></tr><tr><td>&quot;KOR&quot;</td></tr><tr><td>&quot;AUS&quot;</td></tr><tr><td>&quot;CAN&quot;</td></tr><tr><td>&quot;FRA&quot;</td></tr><tr><td>&quot;USA&quot;</td></tr><tr><td>&quot;EA20&quot;</td></tr><tr><td>&quot;ITA&quot;</td></tr><tr><td>&quot;DEU&quot;</td></tr><tr><td>&quot;JPN&quot;</td></tr><tr><td>&quot;ARG&quot;</td></tr></tbody></table></div>"
      ]
     },
     "execution_count": 209,
     "metadata": {},
     "output_type": "execute_result"
    }
   ],
   "execution_count": 209
  },
  {
   "metadata": {
    "ExecuteTime": {
     "end_time": "2024-08-26T14:15:32.913534Z",
     "start_time": "2024-08-26T14:15:32.904292Z"
    }
   },
   "cell_type": "code",
   "source": [
    "yrs = ['2020', '2021', '2022', '2023']\n",
    "cols = ['REF_AREA'] + yrs + ['row_mean']\n",
    "df3 = (\n",
    "    df3.with_columns(pl.mean_horizontal(*yrs)\n",
    "       .alias('row_mean'))[cols].sort('row_mean', descending=True)\n",
    ")\n",
    "df3"
   ],
   "id": "41d96e36ec7967d0",
   "outputs": [
    {
     "data": {
      "text/plain": [
       "shape: (20, 6)\n",
       "┌──────────┬───────────┬──────────┬──────────┬──────────┬───────────┐\n",
       "│ REF_AREA ┆ 2020      ┆ 2021     ┆ 2022     ┆ 2023     ┆ row_mean  │\n",
       "│ ---      ┆ ---       ┆ ---      ┆ ---      ┆ ---      ┆ ---       │\n",
       "│ str      ┆ f64       ┆ f64      ┆ f64      ┆ f64      ┆ f64       │\n",
       "╞══════════╪═══════════╪══════════╪══════════╪══════════╪═══════════╡\n",
       "│ ARG      ┆ 42.01509  ┆ 48.40938 ┆ 72.43076 ┆ 133.4889 ┆ 74.086033 │\n",
       "│ TUR      ┆ 12.3      ┆ 19.6     ┆ 72.3     ┆ 54.0     ┆ 39.55     │\n",
       "│ BRA      ┆ 3.211768  ┆ 8.30166  ┆ 9.280107 ┆ 4.593563 ┆ 6.3467745 │\n",
       "│ MEX      ┆ 3.396834  ┆ 5.689209 ┆ 7.896276 ┆ 5.527961 ┆ 5.62757   │\n",
       "│ IND      ┆ 5.561349  ┆ 4.890086 ┆ 5.90043  ┆ 5.552331 ┆ 5.476049  │\n",
       "│ ZAF      ┆ 3.210036  ┆ 4.611672 ┆ 7.039727 ┆ 6.073908 ┆ 5.233836  │\n",
       "│ RUS      ┆ 3.38166   ┆ 6.694456 ┆ null     ┆ null     ┆ 5.038058  │\n",
       "│ GBR      ┆ 0.8812616 ┆ 2.582376 ┆ 9.053559 ┆ 7.30187  ┆ 4.954767  │\n",
       "│ DEU      ┆ 0.4       ┆ 3.2      ┆ 8.7      ┆ 6.0      ┆ 4.575     │\n",
       "│ USA      ┆ 1.233584  ┆ 4.697859 ┆ 8.0028   ┆ 4.116338 ┆ 4.512645  │\n",
       "│ EA20     ┆ 0.3       ┆ 2.6      ┆ 8.4      ┆ 5.4      ┆ 4.175     │\n",
       "│ ITA      ┆ -0.1      ┆ 1.9      ┆ 8.7      ┆ 5.9      ┆ 4.1       │\n",
       "│ AUS      ┆ 0.8469055 ┆ 2.86391  ┆ 6.594097 ┆ 5.597015 ┆ 3.975482  │\n",
       "│ CAN      ┆ 0.7169997 ┆ 3.395193 ┆ 6.802801 ┆ 3.879002 ┆ 3.698499  │\n",
       "│ FRA      ┆ 0.5       ┆ 2.1      ┆ 5.9      ┆ 5.7      ┆ 3.55      │\n",
       "│ KOR      ┆ 0.537288  ┆ 2.498333 ┆ 5.089514 ┆ 3.597456 ┆ 2.930648  │\n",
       "│ IDN      ┆ 1.919834  ┆ 1.56008  ┆ 4.209456 ┆ 3.669401 ┆ 2.839693  │\n",
       "│ SAU      ┆ 3.445458  ┆ 3.06329  ┆ 2.474074 ┆ 2.327085 ┆ 2.827477  │\n",
       "│ CHN      ┆ 2.5       ┆ 0.9      ┆ 2.0      ┆ 0.2      ┆ 1.4       │\n",
       "│ JPN      ┆ -0.024996 ┆ null     ┆ null     ┆ null     ┆ -0.024996 │\n",
       "└──────────┴───────────┴──────────┴──────────┴──────────┴───────────┘"
      ],
      "text/html": [
       "<div><style>\n",
       ".dataframe > thead > tr,\n",
       ".dataframe > tbody > tr {\n",
       "  text-align: right;\n",
       "  white-space: pre-wrap;\n",
       "}\n",
       "</style>\n",
       "<small>shape: (20, 6)</small><table border=\"1\" class=\"dataframe\"><thead><tr><th>REF_AREA</th><th>2020</th><th>2021</th><th>2022</th><th>2023</th><th>row_mean</th></tr><tr><td>str</td><td>f64</td><td>f64</td><td>f64</td><td>f64</td><td>f64</td></tr></thead><tbody><tr><td>&quot;ARG&quot;</td><td>42.01509</td><td>48.40938</td><td>72.43076</td><td>133.4889</td><td>74.086033</td></tr><tr><td>&quot;TUR&quot;</td><td>12.3</td><td>19.6</td><td>72.3</td><td>54.0</td><td>39.55</td></tr><tr><td>&quot;BRA&quot;</td><td>3.211768</td><td>8.30166</td><td>9.280107</td><td>4.593563</td><td>6.3467745</td></tr><tr><td>&quot;MEX&quot;</td><td>3.396834</td><td>5.689209</td><td>7.896276</td><td>5.527961</td><td>5.62757</td></tr><tr><td>&quot;IND&quot;</td><td>5.561349</td><td>4.890086</td><td>5.90043</td><td>5.552331</td><td>5.476049</td></tr><tr><td>&quot;ZAF&quot;</td><td>3.210036</td><td>4.611672</td><td>7.039727</td><td>6.073908</td><td>5.233836</td></tr><tr><td>&quot;RUS&quot;</td><td>3.38166</td><td>6.694456</td><td>null</td><td>null</td><td>5.038058</td></tr><tr><td>&quot;GBR&quot;</td><td>0.8812616</td><td>2.582376</td><td>9.053559</td><td>7.30187</td><td>4.954767</td></tr><tr><td>&quot;DEU&quot;</td><td>0.4</td><td>3.2</td><td>8.7</td><td>6.0</td><td>4.575</td></tr><tr><td>&quot;USA&quot;</td><td>1.233584</td><td>4.697859</td><td>8.0028</td><td>4.116338</td><td>4.512645</td></tr><tr><td>&quot;EA20&quot;</td><td>0.3</td><td>2.6</td><td>8.4</td><td>5.4</td><td>4.175</td></tr><tr><td>&quot;ITA&quot;</td><td>-0.1</td><td>1.9</td><td>8.7</td><td>5.9</td><td>4.1</td></tr><tr><td>&quot;AUS&quot;</td><td>0.8469055</td><td>2.86391</td><td>6.594097</td><td>5.597015</td><td>3.975482</td></tr><tr><td>&quot;CAN&quot;</td><td>0.7169997</td><td>3.395193</td><td>6.802801</td><td>3.879002</td><td>3.698499</td></tr><tr><td>&quot;FRA&quot;</td><td>0.5</td><td>2.1</td><td>5.9</td><td>5.7</td><td>3.55</td></tr><tr><td>&quot;KOR&quot;</td><td>0.537288</td><td>2.498333</td><td>5.089514</td><td>3.597456</td><td>2.930648</td></tr><tr><td>&quot;IDN&quot;</td><td>1.919834</td><td>1.56008</td><td>4.209456</td><td>3.669401</td><td>2.839693</td></tr><tr><td>&quot;SAU&quot;</td><td>3.445458</td><td>3.06329</td><td>2.474074</td><td>2.327085</td><td>2.827477</td></tr><tr><td>&quot;CHN&quot;</td><td>2.5</td><td>0.9</td><td>2.0</td><td>0.2</td><td>1.4</td></tr><tr><td>&quot;JPN&quot;</td><td>-0.024996</td><td>null</td><td>null</td><td>null</td><td>-0.024996</td></tr></tbody></table></div>"
      ]
     },
     "execution_count": 215,
     "metadata": {},
     "output_type": "execute_result"
    }
   ],
   "execution_count": 215
  },
  {
   "metadata": {
    "ExecuteTime": {
     "end_time": "2024-08-26T14:10:50.657986Z",
     "start_time": "2024-08-26T14:10:50.655048Z"
    }
   },
   "cell_type": "code",
   "source": "",
   "id": "d116e45639f49f05",
   "outputs": [],
   "execution_count": 210
  }
 ],
 "metadata": {
  "kernelspec": {
   "display_name": "Python 3",
   "language": "python",
   "name": "python3"
  },
  "language_info": {
   "codemirror_mode": {
    "name": "ipython",
    "version": 2
   },
   "file_extension": ".py",
   "mimetype": "text/x-python",
   "name": "python",
   "nbconvert_exporter": "python",
   "pygments_lexer": "ipython2",
   "version": "2.7.6"
  }
 },
 "nbformat": 4,
 "nbformat_minor": 5
}
