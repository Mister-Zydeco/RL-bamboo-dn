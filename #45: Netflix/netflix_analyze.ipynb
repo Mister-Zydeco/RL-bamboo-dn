{
 "cells": [
  {
   "cell_type": "code",
   "execution_count": null,
   "id": "0",
   "metadata": {},
   "outputs": [],
   "source": [
    "import pandas as pd\n",
    "import matplotlib.pyplot as plt\n",
    "\n",
    "df = pd.read_excel('./data/Netflix.xslx', skiprows=5,\n",
    "                   parse_dates=['Release Date']).drop(\n",
    "                      labels=['Unnamed: 0'], axis=1)\n",
    "df_any_missing = df.isna().any()\n",
    "print(f'Columns has missing row?\\n{df_any_missing.to_string()}')"
   ]
  },
  {
   "cell_type": "code",
   "execution_count": null,
   "id": "1",
   "metadata": {},
   "outputs": [],
   "source": [
    "df = df.query('`Release Date`.notna()')\n",
    "df['Release Year'] = df['Release Date'].dt.year\n",
    "df['Release Month'] = df['Release Date'].map('{:%b}'.format)\n",
    "df.columns"
   ]
  },
  {
   "cell_type": "code",
   "execution_count": null,
   "id": "2",
   "metadata": {},
   "outputs": [],
   "source": [
    "print(df['Release Year'].value_counts().to_frame('Releases per year')\n",
    "        .sort_index())"
   ]
  },
  {
   "cell_type": "code",
   "execution_count": null,
   "id": "3",
   "metadata": {},
   "outputs": [],
   "source": [
    "print(df['Release Month'].value_counts()\n",
    "        .to_frame('Releases by month').sort_index())"
   ]
  },
  {
   "cell_type": "code",
   "execution_count": null,
   "id": "4",
   "metadata": {},
   "outputs": [],
   "source": [
    "print('Unit of Mean Time Viewed is 10,000 hours')\n",
    "df_mean_watched = df.groupby('Release Year')['Hours Viewed'].mean()\n",
    "df_mean_watched = ((df_mean_watched.to_frame('Mean Time Viewed') / 10000)\n",
    "                   .head(20))\n",
    "\n",
    "print(df_mean_watched.to_string(formatters={\\\n",
    "    'Mean Time Viewed': '{:.2f}'.format}))"
   ]
  },
  {
   "cell_type": "code",
   "execution_count": null,
   "id": "5",
   "metadata": {},
   "outputs": [],
   "source": [
    "df_mean_watched = df_mean_watched.sort_index()\n",
    "fig, ax = plt.subplots()\n",
    "ax.plot(df_mean_watched.index.to_numpy(),\n",
    "       df_mean_watched['Mean Time Viewed'].to_numpy())\n",
    "ax.set_title('Mean Viewer-hours per show by year\\n'\n",
    "             'Units are 10,000 viewer-hours')\n",
    "plt.savefig('plots.png')\n",
    "plt.show()"
   ]
  },
  {
   "cell_type": "code",
   "execution_count": null,
   "id": "6",
   "metadata": {},
   "outputs": [],
   "source": [
    "print('First shows streamed by Netflix')\n",
    "df[['Release Date', 'Title']].sort_values('Release Date').head()"
   ]
  },
  {
   "cell_type": "code",
   "execution_count": null,
   "id": "7",
   "metadata": {},
   "outputs": [],
   "source": [
    "print('Total Time Viewed is across all seasons\\n'\n",
    "      'and is given in units of 10,000 hours')\n",
    "df['Title sans season'] = df.Title.str.replace(\n",
    "    ': Season .*', '', regex=True)\n",
    "df_gb_title_ss = df.groupby('Title sans season')['Hours Viewed']\n",
    "df_total_all_seasons = (\n",
    "    (df_gb_title_ss.sum() / 10000).sort_values(ascending=False)\n",
    "    .to_frame('Total Time Viewed')\n",
    ")\n",
    "print(df_total_all_seasons.head(6).to_string(\n",
    "    formatters={'Total Time Viewed': '{:.2f}'.format}))"
   ]
  },
  {
   "cell_type": "code",
   "execution_count": null,
   "id": "8",
   "metadata": {},
   "outputs": [],
   "source": []
  }
 ],
 "metadata": {
  "kernelspec": {
   "display_name": "Python 3 (ipykernel)",
   "language": "python",
   "name": "python3"
  },
  "language_info": {
   "codemirror_mode": {
    "name": "ipython",
    "version": 3
   },
   "file_extension": ".py",
   "mimetype": "text/x-python",
   "name": "python",
   "nbconvert_exporter": "python",
   "pygments_lexer": "ipython3",
   "version": "3.11.4"
  }
 },
 "nbformat": 4,
 "nbformat_minor": 5
}
