{
 "cells": [
  {
   "cell_type": "code",
   "execution_count": null,
   "id": "0",
   "metadata": {},
   "outputs": [],
   "source": [
    "import pandas as pd\n",
    "import openpyxl\n",
    "\n",
    "wb = openpyxl.load_workbook('./data/HHD_C_Report_2023Q4.xlsx',\n",
    "                           data_only=True)\n",
    "dfs = {\n",
    "    x: pd.DataFrame(wb[x].values) for x in wb.sheetnames\n",
    "    if 'Data' in x\n",
    "}\n",
    "dfs['Page 3 Data']\n",
    "credit_df = dfs['Page 3 Data'].iloc[3:, :8]\n",
    "names = credit_df.iloc[0, :].to_list()\n",
    "names[0] = 'Yr:Q'\n",
    "credit_df.columns = names\n",
    "credit_df = credit_df.iloc[1:-5, :].set_index('Yr:Q', drop=True)\n",
    "print(credit_df.to_string())"
   ]
  },
  {
   "cell_type": "code",
   "execution_count": null,
   "id": "1",
   "metadata": {},
   "outputs": [],
   "source": [
    "ax = credit_df.reset_index().iloc[:, :-1].plot(\n",
    "    x='Yr:Q', kind='bar', stacked=True, figsize=(11,8),\n",
    "    fontsize=6.0\n",
    ")\n",
    "_ = ax.set_xticks(ax.get_xticks(), labels=ax.get_xticklabels(), rotation=60, ha='right')"
   ]
  },
  {
   "cell_type": "code",
   "execution_count": null,
   "id": "2",
   "metadata": {},
   "outputs": [],
   "source": [
    "total_debt_df = credit_df.loc[:, 'Total'].to_frame()\n",
    "total_debt_df.info()\n",
    "total_debt_df['Delta'] = total_debt_df['Total'].pct_change()\n",
    "print(total_debt_df.to_string())\n",
    "print(f'Num. decreases = {total_debt_df.query(\"Delta < 0\").shape[0]}')\n",
    "print(f'Num. increases = {total_debt_df.query(\"Delta > 0\").shape[0]}')"
   ]
  },
  {
   "cell_type": "code",
   "execution_count": null,
   "id": "3",
   "metadata": {},
   "outputs": [],
   "source": [
    "dfp10 = dfs['Page 10 Data']\n",
    "#print(dfp10)\n",
    "colnames = 'YYQ', 'CCB', 'CCAB', 'CCL', 'HERB', 'HERAB', 'HERL'\n",
    "dfp10 = (\n",
    "    dfp10.iloc[4:, :7].rename(columns={x: colnames[x] for x in range(7)})\n",
    "         #.set_index('YYQ', drop=True)\n",
    ")\n",
    "dfp10.iloc[0:-1:2,4:] = dfp10.iloc[1:-1:2, 4:]\n",
    "dfp10 = dfp10.iloc[0:-1:2, :]\n",
    "dfp10x = pd.MultiIndex.from_tuples(\n",
    "    dfp10['YYQ'].apply(lambda x: (int(x[:2]) + 2000, int(x[-1]))),\n",
    "    names=['YY', 'Q']\n",
    ")\n",
    "dfp10 = dfp10.set_index(dfp10x).drop('YYQ', axis=1)\n",
    "#dfp10['YY'] = dfp10['YYQ'].apply(lambda x: 2000 + int(x[:2]))\n",
    "#dfp10['Q'] = dfp10['YYQ'].apply(lambda x: int(x[-1]))\n",
    "#dfp10 = dfp10.iloc[:, 1:].set_index(['YY', 'Q'], drop=True)\n",
    "print(dfp10.iloc[:8, :].to_string())\n",
    "dfp10.groupby(level=0).mean().loc[:, ['CCB', 'CCL']].plot()"
   ]
  },
  {
   "cell_type": "code",
   "execution_count": null,
   "id": "4",
   "metadata": {},
   "outputs": [],
   "source": [
    "dfp12 = dfs['Page 12 Data']\n",
    "#print(dfp12.iloc[:,:4].to_string())\n",
    "colnames = ['YYQ'] + dfp12.iloc[3, 1:].to_list()\n",
    "#print(colnames)\n",
    "delinq_df = (\n",
    "    dfp12.iloc[4:, :7].rename(columns={x: colnames[x] for x in range(8)})\n",
    "      .set_index(\n",
    "        pd.MultiIndex.from_tuples(\n",
    "          dfp12.iloc[4:, 0].apply(\n",
    "            lambda x: (2000 + int(x[:2]), int(x[-1]))),\n",
    "            names=['YY', 'Q']\n",
    "          )\n",
    "       ).drop('YYQ', axis=1)\n",
    ")\n",
    "delinq_df"
   ]
  },
  {
   "cell_type": "code",
   "execution_count": null,
   "id": "5",
   "metadata": {},
   "outputs": [],
   "source": [
    "dfs['Page 32 Data']\n"
   ]
  },
  {
   "cell_type": "code",
   "execution_count": null,
   "id": "6",
   "metadata": {},
   "outputs": [],
   "source": []
  }
 ],
 "metadata": {
  "kernelspec": {
   "display_name": "Python 3 (ipykernel)",
   "language": "python",
   "name": "python3"
  },
  "language_info": {
   "codemirror_mode": {
    "name": "ipython",
    "version": 3
   },
   "file_extension": ".py",
   "mimetype": "text/x-python",
   "name": "python",
   "nbconvert_exporter": "python",
   "pygments_lexer": "ipython3",
   "version": "3.11.7"
  }
 },
 "nbformat": 4,
 "nbformat_minor": 5
}
