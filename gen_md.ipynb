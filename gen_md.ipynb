{
 "cells": [
  {
   "cell_type": "code",
   "id": "initial_id",
   "metadata": {
    "collapsed": true,
    "ExecuteTime": {
     "end_time": "2024-08-25T18:00:54.227998Z",
     "start_time": "2024-08-25T18:00:54.221181Z"
    }
   },
   "source": [
    "import textwrap as tw\n",
    "# generate weekly fragments of html to put in our README.md\n",
    "\n",
    "def make_block(num, title):\n",
    "    site = 'https://www.bambooweekly.com'\n",
    "    words = title.split()\n",
    "    uctitle = title.capitalize()\n",
    "    lctitle = '-'.join(words)\n",
    "    blocklines = [\n",
    "        '<div class=\"box\">',\n",
    "        f'#{num}: {uctitle}<br>',\n",
    "        f'&nbsp;<a href=\"{site}/p/bw-{num}-{lctitle}\">&#x2022; Problem statement</a><br>',\n",
    "        f'&nbsp;&nbsp;<a href=\"{site}/p/bw-{num}-{lctitle}-solution\">&#x2022; Solution</a><br>',\n",
    "    ]\n",
    "    return '\\n  '.join(blocklines) + '\\n</div>'\n",
    "\n",
    "\n",
    "    "
   ],
   "outputs": [],
   "execution_count": 1
  },
  {
   "metadata": {
    "ExecuteTime": {
     "end_time": "2024-08-25T18:00:54.236868Z",
     "start_time": "2024-08-25T18:00:54.230726Z"
    }
   },
   "cell_type": "code",
   "source": "print(make_block(75, 'refugees'))",
   "id": "3ea126777a39bf03",
   "outputs": [
    {
     "name": "stdout",
     "output_type": "stream",
     "text": [
      "<div class=\"box\">\n",
      "  #75: Refugees<br>\n",
      "  &nbsp;<a href=\"https://www.bambooweekly.com/p/bw-75-refugees\">&#x2022; Problem statement</a><br>\n",
      "  &nbsp;&nbsp;<a href=\"https://www.bambooweekly.com/p/bw-75-refugees-solution\">&#x2022; Solution</a><br>\n",
      "</div>\n"
     ]
    }
   ],
   "execution_count": 2
  },
  {
   "metadata": {
    "ExecuteTime": {
     "end_time": "2024-08-25T18:00:54.244936Z",
     "start_time": "2024-08-25T18:00:54.239513Z"
    }
   },
   "cell_type": "code",
   "source": [
    "blocks = {\n",
    "    76: 'aging legislators', 77: 'paris olympics', 78:'stock markets',\n",
    "    79: 'cyber attacks', 80: 'inflation'\n",
    "}\n",
    "for num, title in blocks.items():\n",
    "    print(make_block(num, title))\n",
    "    "
   ],
   "id": "8debd72b3ec1b190",
   "outputs": [
    {
     "name": "stdout",
     "output_type": "stream",
     "text": [
      "<div class=\"box\">\n",
      "  #76: Aging legislators<br>\n",
      "  &nbsp;<a href=\"https://www.bambooweekly.com/p/bw-76-aging-legislators\">&#x2022; Problem statement</a><br>\n",
      "  &nbsp;&nbsp;<a href=\"https://www.bambooweekly.com/p/bw-76-aging-legislators-solution\">&#x2022; Solution</a><br>\n",
      "</div>\n",
      "<div class=\"box\">\n",
      "  #77: Paris olympics<br>\n",
      "  &nbsp;<a href=\"https://www.bambooweekly.com/p/bw-77-paris-olympics\">&#x2022; Problem statement</a><br>\n",
      "  &nbsp;&nbsp;<a href=\"https://www.bambooweekly.com/p/bw-77-paris-olympics-solution\">&#x2022; Solution</a><br>\n",
      "</div>\n",
      "<div class=\"box\">\n",
      "  #78: Stock markets<br>\n",
      "  &nbsp;<a href=\"https://www.bambooweekly.com/p/bw-78-stock-markets\">&#x2022; Problem statement</a><br>\n",
      "  &nbsp;&nbsp;<a href=\"https://www.bambooweekly.com/p/bw-78-stock-markets-solution\">&#x2022; Solution</a><br>\n",
      "</div>\n",
      "<div class=\"box\">\n",
      "  #79: Cyber attacks<br>\n",
      "  &nbsp;<a href=\"https://www.bambooweekly.com/p/bw-79-cyber-attacks\">&#x2022; Problem statement</a><br>\n",
      "  &nbsp;&nbsp;<a href=\"https://www.bambooweekly.com/p/bw-79-cyber-attacks-solution\">&#x2022; Solution</a><br>\n",
      "</div>\n",
      "<div class=\"box\">\n",
      "  #80: Inflation<br>\n",
      "  &nbsp;<a href=\"https://www.bambooweekly.com/p/bw-80-inflation\">&#x2022; Problem statement</a><br>\n",
      "  &nbsp;&nbsp;<a href=\"https://www.bambooweekly.com/p/bw-80-inflation-solution\">&#x2022; Solution</a><br>\n",
      "</div>\n"
     ]
    }
   ],
   "execution_count": 3
  }
 ],
 "metadata": {
  "kernelspec": {
   "display_name": "Python 3",
   "language": "python",
   "name": "python3"
  },
  "language_info": {
   "codemirror_mode": {
    "name": "ipython",
    "version": 2
   },
   "file_extension": ".py",
   "mimetype": "text/x-python",
   "name": "python",
   "nbconvert_exporter": "python",
   "pygments_lexer": "ipython2",
   "version": "2.7.6"
  }
 },
 "nbformat": 4,
 "nbformat_minor": 5
}
