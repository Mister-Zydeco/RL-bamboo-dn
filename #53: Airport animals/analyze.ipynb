{
 "cells": [
  {
   "cell_type": "code",
   "execution_count": null,
   "id": "0",
   "metadata": {},
   "outputs": [],
   "source": [
    "from tabula import read_pdf\n",
    "import pandas as pd\n",
    "\n",
    "\n",
    "(df, ) = read_pdf('./data/animals-heathrow.pdf', pages=3,\n",
    "                  multiple_tables=False,\n",
    "                  pandas_options={\n",
    "                    'header': [0, 1], 'skipinitialspace': True,\n",
    "                  }\n",
    ")\n",
    "ca = ['Consignments', 'Animals']\n",
    "df = df.iloc[:-1, [0, 1, 2, 4, 5, 7, 8, 10, 11, 13]]\n",
    "lev1 = ['TAXA'] + [x for x in range(2019, 2023) for _ in range(2)] + [2023]\n",
    "lev2 = ['X'] + [ca[ix % 2] for ix in range(0, 8)] + ['X']\n",
    "df.columns = pd.MultiIndex.from_arrays([lev1, lev2])\n",
    "df23 = df.iloc[:, -1].str.split(expand=True).apply(pd.to_numeric)\n",
    "df23.columns = pd.MultiIndex.from_arrays([[2023, 2023], ca])\n",
    "taxa = df.iloc[:, 0].rename('TAXA')\n",
    "df = pd.concat([df.iloc[:, 1:-1], df23], axis=1)\n",
    "df = df.set_index(taxa)\n",
    "df.info()"
   ]
  },
  {
   "cell_type": "code",
   "execution_count": null,
   "id": "1",
   "metadata": {},
   "outputs": [],
   "source": [
    "(df[2023].sort_values('Animals', ascending=False)\n",
    "    .iloc[:5, :].style.format(thousands=',')\n",
    ")"
   ]
  },
  {
   "cell_type": "code",
   "execution_count": null,
   "id": "2",
   "metadata": {},
   "outputs": [],
   "source": [
    "(df[2023].query('Animals < 1000').sort_values('Animals', ascending=False)\n",
    "    .iloc[:5, :].style.format(thousands=',')\n",
    ")"
   ]
  },
  {
   "cell_type": "code",
   "execution_count": null,
   "id": "3",
   "metadata": {},
   "outputs": [],
   "source": [
    "col_dict = {x: df[x]['Animals'] for x in [2022, 2023]}\n",
    "a2223 = pd.DataFrame.from_dict(col_dict)\n",
    "delta = (\n",
    "    a2223.T.pct_change().T[2023]\n",
    ")\n",
    "a2223['delta'] = delta\n",
    "a2223 = a2223.sort_values('delta')\n",
    "a2223['delta'] = a2223['delta'].map('{:2%}'.format)\n",
    "a2223"
   ]
  },
  {
   "cell_type": "code",
   "execution_count": null,
   "id": "4",
   "metadata": {},
   "outputs": [],
   "source": [
    "rows = ['Cat', 'Dog', 'Fish', 'Horse']\n",
    "petconsign = (\n",
    "    df.T.xs('Consignments', level=1).T.loc[rows, :].T\n",
    ")\n",
    "petconsign"
   ]
  },
  {
   "cell_type": "code",
   "execution_count": null,
   "id": "5",
   "metadata": {},
   "outputs": [],
   "source": [
    "petconsign.plot(title=\n",
    "        'Heathrow inbound domestic animal\\n'\n",
    "        'consignments by year and animal type'\n",
    "               )"
   ]
  },
  {
   "cell_type": "code",
   "execution_count": null,
   "id": "6",
   "metadata": {},
   "outputs": [],
   "source": []
  }
 ],
 "metadata": {
  "kernelspec": {
   "display_name": "Python 3 (ipykernel)",
   "language": "python",
   "name": "python3"
  },
  "language_info": {
   "codemirror_mode": {
    "name": "ipython",
    "version": 3
   },
   "file_extension": ".py",
   "mimetype": "text/x-python",
   "name": "python",
   "nbconvert_exporter": "python",
   "pygments_lexer": "ipython3",
   "version": "3.11.7"
  }
 },
 "nbformat": 4,
 "nbformat_minor": 5
}
