{
 "cells": [
  {
   "cell_type": "code",
   "execution_count": null,
   "id": "0",
   "metadata": {},
   "outputs": [],
   "source": [
    "import pandas as pd\n",
    "import matplotlib.pyplot as plt\n",
    "\n",
    "df = pd.read_csv(\n",
    "    './data/nationwide-encounters-fy21-fy24-dec-aor.csv'\n",
    ")\n",
    "df['Fiscal Year'] = df['Fiscal Year'].str.replace(' .*', '', regex=True)\n",
    "\n",
    "df['date'] = df.apply(\n",
    "    lambda x: pd.to_datetime(f'{x[\"Fiscal Year\"]}-{x[\"Month (abbv)\"]}'),\n",
    "    axis=1\n",
    ")\n",
    "df = df.set_index('date')\n",
    "print(df.columns)\n",
    "encounters_per_month = df.loc[:,'Encounter Count'].groupby(df.index).sum()\n",
    "encounters_per_month"
   ]
  },
  {
   "cell_type": "code",
   "execution_count": null,
   "id": "1",
   "metadata": {},
   "outputs": [],
   "source": [
    "print(df.head())\n",
    "encounters_per_month.plot()"
   ]
  },
  {
   "cell_type": "code",
   "execution_count": null,
   "id": "2",
   "metadata": {},
   "outputs": [],
   "source": [
    "def fisc_to_cal(dtm, end_month):\n",
    "...     yr = dtm.year if dtm.month <= end_month else dtm.year - 1\n",
    "...     return pd.to_datetime(f'{yr}-{dtm.month}')\n",
    "  \n",
    "df['caldate'] = df.index.map(lambda x: fisc_to_cal(x, 9))\n",
    "df = df.set_index('caldate')\n",
    "encounters_per_month = df.loc[:,'Encounter Count'].groupby(df.index).sum()\n",
    "encounters_per_month.plot()"
   ]
  },
  {
   "cell_type": "code",
   "execution_count": null,
   "id": "3",
   "metadata": {},
   "outputs": [],
   "source": [
    "encounter_count_df = (\n",
    "    df.reset_index().loc[:, ['caldate', 'Encounter Type', 'Encounter Count']]\n",
    "      .groupby(['caldate', 'Encounter Type']).sum().unstack(level=1, fill_value=0)\n",
    ")\n",
    "encounter_count_df.columns = encounter_count_df.columns.droplevel(0)\n",
    "encounter_count_df"
   ]
  },
  {
   "cell_type": "code",
   "execution_count": null,
   "id": "4",
   "metadata": {},
   "outputs": [],
   "source": [
    "encounter_count_df.plot()"
   ]
  },
  {
   "cell_type": "code",
   "execution_count": null,
   "id": "5",
   "metadata": {},
   "outputs": [],
   "source": [
    "by_ctz_df = df.reset_index()\n",
    "print(by_ctz_df.columns)\n",
    "by_ctz_df = (\n",
    "   by_ctz_df.loc[:, ['caldate', 'Citizenship', 'Encounter Count']]\n",
    "      .groupby(['caldate', 'Citizenship']).sum().unstack(level=1)\n",
    "      .resample('1y').sum()\n",
    ")\n",
    "by_ctz_df.columns = by_ctz_df.columns.droplevel(0)\n",
    "print(by_ctz_df.iloc[:, :10].to_string())\n",
    "print(by_ctz_df.iloc[:, 10:20].to_string())"
   ]
  },
  {
   "cell_type": "code",
   "execution_count": null,
   "id": "6",
   "metadata": {},
   "outputs": [],
   "source": [
    "totals = by_ctz_df.apply(sum, axis=1)\n",
    "by_ctz_df = by_ctz_df.div(totals, axis=0)\n",
    "by_ctz_df.T"
   ]
  },
  {
   "cell_type": "code",
   "execution_count": null,
   "id": "7",
   "metadata": {},
   "outputs": [],
   "source": [
    "by_ctz_df.pct_change().T"
   ]
  },
  {
   "cell_type": "code",
   "execution_count": null,
   "id": "8",
   "metadata": {},
   "outputs": [],
   "source": [
    "by_ctz_df.pct_change().T.iloc[:, 3].sort_values(ascending=False)"
   ]
  },
  {
   "cell_type": "code",
   "execution_count": null,
   "id": "9",
   "metadata": {},
   "outputs": [],
   "source": [
    "unaccomp_df = (\n",
    "    df[df['Demographic'] == 'UC / Single Minors'].reset_index().loc[:, ['caldate', 'Citizenship', 'Encounter Count']]\n",
    "      .groupby(['caldate', 'Citizenship']).sum().unstack(level=1, fill_value=0)\n",
    "      .resample('1y').sum()\n",
    ")\n",
    "unaccomp_df.columns = unaccomp_df.columns.droplevel(0)\n",
    "#unaccomp_df = unaccomp_df[unaccomp_df.index.year == 2023].T.iloc[:,0]\n",
    "#unaccomp_df.sort_values(ascending=False)\n",
    "unaccomp_df.T"
   ]
  },
  {
   "cell_type": "code",
   "execution_count": null,
   "id": "10",
   "metadata": {},
   "outputs": [],
   "source": [
    "unaccomp_2023 = unaccomp_df.T.iloc[:, 3].sort_values(ascending=False)\n",
    "unaccomp_2023"
   ]
  },
  {
   "cell_type": "code",
   "execution_count": null,
   "id": "11",
   "metadata": {},
   "outputs": [],
   "source": [
    "unaccomp_2023.sum()"
   ]
  },
  {
   "cell_type": "code",
   "execution_count": null,
   "id": "12",
   "metadata": {},
   "outputs": [],
   "source": [
    "print(df.resample('1Y')['Citizenship'].value_counts().to_string())"
   ]
  },
  {
   "cell_type": "code",
   "execution_count": null,
   "id": "13",
   "metadata": {},
   "outputs": [],
   "source": [
    "df['Demographic'].drop_duplicates()"
   ]
  },
  {
   "cell_type": "code",
   "execution_count": null,
   "id": "14",
   "metadata": {},
   "outputs": [],
   "source": [
    "unacc_df = (\n",
    "    df.query('Demographic == \"UC / Single Minors\"').reset_index()\n",
    "      .groupby(['caldate', 'Citizenship', 'AOR (Abbv)'])['Encounter Count'].sum()\n",
    ")\n",
    "unacc_df"
   ]
  },
  {
   "cell_type": "code",
   "execution_count": null,
   "id": "15",
   "metadata": {},
   "outputs": [],
   "source": [
    "unacc_df"
   ]
  },
  {
   "cell_type": "code",
   "execution_count": null,
   "id": "16",
   "metadata": {},
   "outputs": [],
   "source": [
    "unacc_df = unacc_df.reset_index()"
   ]
  },
  {
   "cell_type": "code",
   "execution_count": null,
   "id": "17",
   "metadata": {},
   "outputs": [],
   "source": [
    "unacc_df"
   ]
  },
  {
   "cell_type": "code",
   "execution_count": null,
   "id": "18",
   "metadata": {},
   "outputs": [],
   "source": [
    "unacc_df.info()"
   ]
  },
  {
   "cell_type": "code",
   "execution_count": null,
   "id": "19",
   "metadata": {},
   "outputs": [],
   "source": []
  }
 ],
 "metadata": {
  "kernelspec": {
   "display_name": "Python 3 (ipykernel)",
   "language": "python",
   "name": "python3"
  },
  "language_info": {
   "codemirror_mode": {
    "name": "ipython",
    "version": 3
   },
   "file_extension": ".py",
   "mimetype": "text/x-python",
   "name": "python",
   "nbconvert_exporter": "python",
   "pygments_lexer": "ipython3",
   "version": "3.11.7"
  }
 },
 "nbformat": 4,
 "nbformat_minor": 5
}
