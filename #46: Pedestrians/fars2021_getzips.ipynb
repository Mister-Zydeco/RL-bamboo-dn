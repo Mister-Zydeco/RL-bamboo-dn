{
 "cells": [
  {
   "cell_type": "markdown",
   "id": "26e9c53c",
   "metadata": {},
   "source": [
    "This notebook should be run first. The annual NHTSA data on U.S. auto accidents comes in the form of zip archives of various csv file. This notebook downloads those files for years 2010 through 2011."
   ]
  },
  {
   "cell_type": "code",
   "execution_count": null,
   "id": "2e2c9eed",
   "metadata": {},
   "outputs": [],
   "source": [
    "import requests\n",
    "import zipfile\n",
    "import io\n",
    "\n",
    "DATADIR = './data'\n",
    "for year in range(2010, 2022):\n",
    "    filename = f'FARS{year}NationalCSV.zip'\n",
    "    directory = f'FARS/{year}/National'\n",
    "    url = f'https://static.nhtsa.gov/nhtsa/downloads/{directory}/{filename}'\n",
    "    response = requests.get(url)\n",
    "    bytestream = io.BytesIO(response.content)\n",
    "    with open(f'{DATADIR}/{filename}', 'wb') as wfh:\n",
    "        wfh.write(bytestream.getvalue())\n",
    "    print(f'Finished getting {filename}...')"
   ]
  }
 ],
 "metadata": {
  "kernelspec": {
   "display_name": "Python 3 (ipykernel)",
   "language": "python",
   "name": "python3"
  },
  "language_info": {
   "codemirror_mode": {
    "name": "ipython",
    "version": 3
   },
   "file_extension": ".py",
   "mimetype": "text/x-python",
   "name": "python",
   "nbconvert_exporter": "python",
   "pygments_lexer": "ipython3",
   "version": "3.11.4"
  }
 },
 "nbformat": 4,
 "nbformat_minor": 5
}
