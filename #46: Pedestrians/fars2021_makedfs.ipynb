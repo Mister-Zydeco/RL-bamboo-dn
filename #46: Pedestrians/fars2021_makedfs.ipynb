{
 "cells": [
  {
   "cell_type": "markdown",
   "id": "0",
   "metadata": {},
   "source": [
    "This notebook should be run after fars2021_getzips. From each zip file downloaded by fars2021_getzips, the accident.csv and person.csv files are extracted. Aggregate dataframes for the 12-year period are made for both the accident and person data, and those data frames are pickled. "
   ]
  },
  {
   "cell_type": "code",
   "execution_count": null,
   "id": "1",
   "metadata": {},
   "outputs": [],
   "source": [
    "import zipfile\n",
    "import io\n",
    "import pandas as pd\n",
    "import re\n",
    "import pickle\n",
    "\n",
    "\n",
    "person_dfs, accident_dfs = [], []\n",
    "person_fields = ['STATE', 'ST_CASE', 'PER_TYP', 'INJ_SEV']\n",
    "accident_fields = ['YEAR', 'STATE', 'ST_CASE', 'LGT_COND']\n",
    "DATADIR = './data'\n",
    "for year in range(2012, 2022):\n",
    "    filename = f'FARS{year}NationalCSV.zip'\n",
    "\n",
    "    with zipfile.ZipFile(f'{DATADIR}/{filename}', 'r') as zipf:\n",
    "        namelist = zipf.namelist()\n",
    "        personfilename, accidentfilename = None, None\n",
    "        for filename in namelist:\n",
    "            if re.search('person.csv', filename, re.IGNORECASE):\n",
    "                personfilename = filename\n",
    "            if re.search('accident.csv', filename, re.IGNORECASE):\n",
    "                accidentfilename = filename\n",
    "        with zipf.open(personfilename) as pfh:\n",
    "            person_df_annual = pd.read_csv(pfh, encoding='latin-1')\n",
    "            person_df_annual = person_df_annual[person_fields]\n",
    "        with zipf.open(accidentfilename) as afh:\n",
    "            accident_df_annual = pd.read_csv(afh, encoding='latin-1')\n",
    "            accident_df_annual = accident_df_annual[accident_fields]\n",
    "\n",
    "    person_df_annual.insert(0, 'YEAR', year)\n",
    "    person_dfs.append(person_df_annual)\n",
    "    accident_dfs.append(accident_df_annual)\n",
    "    print(f'Finished {year}')\n",
    "    \n",
    "all_person_cases = pd.concat(person_dfs, ignore_index=True)\n",
    "all_accident_cases = pd.concat(accident_dfs, ignore_index=True)\n",
    "with open(f'{DATADIR}/person.pickle', 'wb') as pers_fh:\n",
    "    pickle.dump(all_person_cases, pers_fh)\n",
    "with open(f'{DATADIR}/accident.pickle', 'wb') as accident_fh:\n",
    "    pickle.dump(all_accident_cases, accident_fh)\n"
   ]
  },
  {
   "cell_type": "code",
   "execution_count": null,
   "id": "2",
   "metadata": {},
   "outputs": [],
   "source": []
  }
 ],
 "metadata": {
  "kernelspec": {
   "display_name": "Python 3 (ipykernel)",
   "language": "python",
   "name": "python3"
  },
  "language_info": {
   "codemirror_mode": {
    "name": "ipython",
    "version": 3
   },
   "file_extension": ".py",
   "mimetype": "text/x-python",
   "name": "python",
   "nbconvert_exporter": "python",
   "pygments_lexer": "ipython3",
   "version": "3.11.4"
  }
 },
 "nbformat": 4,
 "nbformat_minor": 5
}
