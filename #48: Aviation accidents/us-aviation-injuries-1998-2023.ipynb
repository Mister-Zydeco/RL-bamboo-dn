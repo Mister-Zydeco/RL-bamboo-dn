{
 "cells": [
  {
   "cell_type": "code",
   "execution_count": null,
   "id": "0",
   "metadata": {},
   "outputs": [],
   "source": [
    "import os\n",
    "import pandas as pd\n",
    "import numpy as np\n",
    "import glob\n",
    "import pickle\n",
    "import re\n",
    "import matplotlib.pyplot as plt"
   ]
  },
  {
   "cell_type": "code",
   "execution_count": null,
   "id": "1",
   "metadata": {},
   "outputs": [],
   "source": [
    "if not os.path.isfile('./data/df.pickle'):\n",
    "    columns = [\n",
    "        'cm_mkey', 'cm_eventDate', 'cm_vehicles', 'cm_fatalInjuryCount',\n",
    "        'cm_seriousInjuryCount', 'cm_minorInjuryCount'\n",
    "    ]\n",
    "    df = pd.concat(pd.read_json(jfile).loc[:, columns]\n",
    "               for jfile in glob.glob('./data/cases*.json'))\n",
    "    with open('./data/df.pickle','wb') as fh:\n",
    "        pickle.dump(df, fh)"
   ]
  },
  {
   "cell_type": "code",
   "execution_count": null,
   "id": "2",
   "metadata": {},
   "outputs": [],
   "source": [
    "with open('./data/df.pickle', 'rb') as fh:\n",
    "    df = pickle.load(fh)\n",
    "\n",
    "df = df.set_index('cm_mkey')\n",
    "df['cm_eventDate'] = pd.to_datetime(df['cm_eventDate'])\n",
    "\n",
    "df['does_not_have_vehicles'] = df['cm_vehicles'].isna()\n",
    "def vehicle_counter(x):\n",
    "    return pd.NA if x.does_not_have_vehicles else len(x.cm_vehicles)\n",
    "\n",
    "def stdize(x):\n",
    "    return x.replace('-', '').upper()\n",
    "\n",
    "def vehicle_mmo(x, colkey):\n",
    "    if x.does_not_have_vehicles:\n",
    "        return np.nan\n",
    "    else:\n",
    "        return x.cm_vehicles[0].get(colkey, None)\n",
    "\n",
    "df['n_vehicles'] = df.apply(vehicle_counter, axis=1)\n",
    "df['n_vehicles'].value_counts()"
   ]
  },
  {
   "cell_type": "code",
   "execution_count": null,
   "id": "3",
   "metadata": {},
   "outputs": [],
   "source": [
    "mmo_cols = ['make', 'model', 'operatorName']\n",
    "for key in mmo_cols:\n",
    "    df[key] = df.apply(vehicle_mmo, colkey=key, axis=1).str.upper()\n",
    "\n",
    "mm_cols = ['make', 'model']\n",
    "for key in mm_cols:\n",
    "    df[key] = df[key].str.replace('\\W', '', regex=True)\n",
    "mm_counts = df.loc[:, mm_cols].value_counts()\n",
    "print(mm_counts.iloc[:10].to_string())"
   ]
  },
  {
   "cell_type": "code",
   "execution_count": null,
   "id": "4",
   "metadata": {},
   "outputs": [],
   "source": [
    "opyr_cols = ['cm_eventDate', 'operatorName']\n",
    "trail_rx = re.compile(',? INC\\.?$')\n",
    "df_opyr = df.loc[:, opyr_cols]\n",
    "df_opyr['operatorName'] = df_opyr['operatorName'].replace(trail_rx, '')\n",
    "df_opyr['count'] = 1\n",
    "mask_vals = ['', 'ON FILE', 'UNKNOWN',\n",
    "             'NAME', 'NOT PROVIDED BY AUTHORITY',\n",
    "             'REGISTRATION PENDING']\n",
    "mask = df_opyr['operatorName'].isin(mask_vals)\n",
    "df_opyr = df_opyr[~mask]\n",
    "\n",
    "def gbopyr_func(ix):\n",
    "    return (ix[0].year, ix[1])\n",
    "\n",
    "df_opyr = df_opyr.dropna(how='any').set_index(\n",
    "            opyr_cols).groupby(gbopyr_func).count()\n",
    "df_opyr.index = pd.MultiIndex.from_tuples(\n",
    "    df_opyr.index, name=['year', 'operatorName'])\n",
    "df_opyr = df_opyr.reset_index().sort_values(\n",
    "    ['year', 'count'], ascending=[True, False]).reset_index(drop=True)\n",
    "print(f'df_opyr.columns={df_opyr.columns}')"
   ]
  },
  {
   "cell_type": "code",
   "execution_count": null,
   "id": "5",
   "metadata": {},
   "outputs": [],
   "source": [
    "gb_opyr = df_opyr.groupby('year')\n",
    "dict_yrmax = gb_opyr['count'].nth(0).to_dict()\n",
    "df_opyr['max_for_year'] = pd.Series(\n",
    "    dict_yrmax[yr] for yr, group in gb_opyr\n",
    "    for _ in range(group.shape[0]))\n",
    "df_opyr = df_opyr.query('count == max_for_year')\n",
    "print(df_opyr.drop('max_for_year', axis=1).to_string(index=False))\n",
    "\n",
    "def gbinjyr_func(ix):\n",
    "    return ix.year\n",
    "\n",
    "inj_cols = ['cm_eventDate', 'cm_fatalInjuryCount',\n",
    "               'cm_seriousInjuryCount', 'cm_minorInjuryCount']\n",
    "\n",
    "inj_df = df.loc[:, inj_cols].resample('Y', origin='01/01/1998',\n",
    "                                   on='cm_eventDate').sum()\n",
    "inj_df.index = pd.Index(x.year for x in inj_df.index)\n",
    "\n",
    "def col_shorten(x):\n",
    "    return x.replace('cm_', '').replace('InjuryCount', '')\n",
    "inj_df = inj_df.rename(columns=col_shorten)\n",
    "print(inj_df.to_string())"
   ]
  },
  {
   "cell_type": "code",
   "execution_count": null,
   "id": "6",
   "metadata": {},
   "outputs": [],
   "source": [
    "colors_l = ('#22ff22', '#dfdf22', '#ff2222')\n",
    "labels_l = ('minor', 'serious', 'fatal')\n",
    "yrs = np.array(range(1998, 2024))\n",
    "fig, ax = plt.subplots()\n",
    "ax.set_title('Injuries in U.S. Aviation 1998-2023')\n",
    "\n",
    "lines = []\n",
    "for line_label, color in zip(labels_l, colors_l):\n",
    "    line, = ax.plot(yrs, inj_df.loc[yrs, line_label].to_numpy(),\n",
    "                   label=line_label, color=color)\n",
    "    lines.append(line)\n",
    "ax.legend(lines, labels_l) \n",
    "plt.savefig('plots.png')\n",
    "plt.show(block=False)\n"
   ]
  },
  {
   "cell_type": "code",
   "execution_count": null,
   "id": "7",
   "metadata": {},
   "outputs": [],
   "source": []
  }
 ],
 "metadata": {
  "kernelspec": {
   "display_name": "Python 3 (ipykernel)",
   "language": "python",
   "name": "python3"
  },
  "language_info": {
   "codemirror_mode": {
    "name": "ipython",
    "version": 3
   },
   "file_extension": ".py",
   "mimetype": "text/x-python",
   "name": "python",
   "nbconvert_exporter": "python",
   "pygments_lexer": "ipython3",
   "version": "3.11.4"
  }
 },
 "nbformat": 4,
 "nbformat_minor": 5
}
